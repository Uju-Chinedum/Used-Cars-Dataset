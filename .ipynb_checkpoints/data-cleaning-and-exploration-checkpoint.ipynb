{
 "cells": [
  {
   "cell_type": "markdown",
   "id": "c413f830",
   "metadata": {
    "papermill": {
     "duration": 0.014533,
     "end_time": "2023-03-20T19:04:59.513293",
     "exception": false,
     "start_time": "2023-03-20T19:04:59.498760",
     "status": "completed"
    },
    "tags": []
   },
   "source": [
    "# Data Cleaning and Exploration on Car Sales Data\n",
    "This is an exploration analysis project on dataset of used cars from eBay Kleinanzeigen, a classified section of German eBay website.\n",
    "The dataset has 50,000 data points and the dictionary provided with data is as follows:\n",
    "* dateCrawled - When this ad was first crawled. All field-values as taken from this date.\n",
    "* name - Name of the car.\n",
    "* seller - Whether the seller is private or a dealer.\n",
    "* offerType - The type of listing.\n",
    "* price - The pricepf the ad to sell the car.\n",
    "* abtest - Whether the listing is included in an A/B test.\n",
    "* vehicleType - The vehicle Type.\n",
    "* yearOfRegistration - The year in which the car was first registered.\n",
    "* gearbox - The transmission type.\n",
    "* powerPS - The power of the car in PS.\n",
    "* model _ The car model name.\n",
    "* kilometer - How many kilometers the car has driven.\n",
    "* monthOfRegistration - The month in which the car was first registered.\n",
    "* fuelType - What type of fuel the car uses.\n",
    "* brand - The brand of the car.\n",
    "* notRepairedDamage - If the car has a damage which is not yet repaired.\n",
    "* dateCreated - The date on which the eBay listing was created. \n",
    "* nrOfPictures - the number of pictures in the ad\n",
    "* postalCode - The postal code for the location of the vehicle.\n",
    "* lastSeenOnline - When the crawler saw this ad last online.\n",
    "\n",
    "        the projeect is aimed at cleaning and analysing the  data. \n",
    "        \n"
   ]
  },
  {
   "cell_type": "code",
   "execution_count": 1,
   "id": "2adea3e1",
   "metadata": {
    "execution": {
     "iopub.execute_input": "2023-03-20T19:04:59.542018Z",
     "iopub.status.busy": "2023-03-20T19:04:59.541644Z",
     "iopub.status.idle": "2023-03-20T19:05:00.554040Z",
     "shell.execute_reply": "2023-03-20T19:05:00.552260Z"
    },
    "papermill": {
     "duration": 1.029925,
     "end_time": "2023-03-20T19:05:00.556802",
     "exception": false,
     "start_time": "2023-03-20T19:04:59.526877",
     "status": "completed"
    },
    "tags": []
   },
   "outputs": [],
   "source": [
    "# import libraries\n",
    "import numpy as np\n",
    "import pandas as pd\n",
    "import matplotlib.pyplot as plt\n",
    "import seaborn as sns"
   ]
  },
  {
   "cell_type": "code",
   "execution_count": 2,
   "id": "aa77d30a",
   "metadata": {
    "execution": {
     "iopub.execute_input": "2023-03-20T19:05:00.586795Z",
     "iopub.status.busy": "2023-03-20T19:05:00.586409Z",
     "iopub.status.idle": "2023-03-20T19:05:02.806734Z",
     "shell.execute_reply": "2023-03-20T19:05:02.805083Z"
    },
    "papermill": {
     "duration": 2.237496,
     "end_time": "2023-03-20T19:05:02.809041",
     "exception": false,
     "start_time": "2023-03-20T19:05:00.571545",
     "status": "completed"
    },
    "tags": []
   },
   "outputs": [
    {
     "data": {
      "text/html": [
       "<div>\n",
       "<style scoped>\n",
       "    .dataframe tbody tr th:only-of-type {\n",
       "        vertical-align: middle;\n",
       "    }\n",
       "\n",
       "    .dataframe tbody tr th {\n",
       "        vertical-align: top;\n",
       "    }\n",
       "\n",
       "    .dataframe thead th {\n",
       "        text-align: right;\n",
       "    }\n",
       "</style>\n",
       "<table border=\"1\" class=\"dataframe\">\n",
       "  <thead>\n",
       "    <tr style=\"text-align: right;\">\n",
       "      <th></th>\n",
       "      <th>dateCrawled</th>\n",
       "      <th>name</th>\n",
       "      <th>seller</th>\n",
       "      <th>offerType</th>\n",
       "      <th>price</th>\n",
       "      <th>abtest</th>\n",
       "      <th>vehicleType</th>\n",
       "      <th>yearOfRegistration</th>\n",
       "      <th>gearbox</th>\n",
       "      <th>powerPS</th>\n",
       "      <th>model</th>\n",
       "      <th>kilometer</th>\n",
       "      <th>monthOfRegistration</th>\n",
       "      <th>fuelType</th>\n",
       "      <th>brand</th>\n",
       "      <th>notRepairedDamage</th>\n",
       "      <th>dateCreated</th>\n",
       "      <th>nrOfPictures</th>\n",
       "      <th>postalCode</th>\n",
       "      <th>lastSeen</th>\n",
       "    </tr>\n",
       "  </thead>\n",
       "  <tbody>\n",
       "    <tr>\n",
       "      <th>0</th>\n",
       "      <td>2016-03-24 11:52:17</td>\n",
       "      <td>Golf_3_1.6</td>\n",
       "      <td>privat</td>\n",
       "      <td>Angebot</td>\n",
       "      <td>480</td>\n",
       "      <td>test</td>\n",
       "      <td>NaN</td>\n",
       "      <td>1993</td>\n",
       "      <td>manuell</td>\n",
       "      <td>0</td>\n",
       "      <td>golf</td>\n",
       "      <td>150000</td>\n",
       "      <td>0</td>\n",
       "      <td>benzin</td>\n",
       "      <td>volkswagen</td>\n",
       "      <td>NaN</td>\n",
       "      <td>2016-03-24 00:00:00</td>\n",
       "      <td>0</td>\n",
       "      <td>70435</td>\n",
       "      <td>2016-04-07 03:16:57</td>\n",
       "    </tr>\n",
       "    <tr>\n",
       "      <th>1</th>\n",
       "      <td>2016-03-24 10:58:45</td>\n",
       "      <td>A5_Sportback_2.7_Tdi</td>\n",
       "      <td>privat</td>\n",
       "      <td>Angebot</td>\n",
       "      <td>18300</td>\n",
       "      <td>test</td>\n",
       "      <td>coupe</td>\n",
       "      <td>2011</td>\n",
       "      <td>manuell</td>\n",
       "      <td>190</td>\n",
       "      <td>NaN</td>\n",
       "      <td>125000</td>\n",
       "      <td>5</td>\n",
       "      <td>diesel</td>\n",
       "      <td>audi</td>\n",
       "      <td>ja</td>\n",
       "      <td>2016-03-24 00:00:00</td>\n",
       "      <td>0</td>\n",
       "      <td>66954</td>\n",
       "      <td>2016-04-07 01:46:50</td>\n",
       "    </tr>\n",
       "    <tr>\n",
       "      <th>2</th>\n",
       "      <td>2016-03-14 12:52:21</td>\n",
       "      <td>Jeep_Grand_Cherokee_\"Overland\"</td>\n",
       "      <td>privat</td>\n",
       "      <td>Angebot</td>\n",
       "      <td>9800</td>\n",
       "      <td>test</td>\n",
       "      <td>suv</td>\n",
       "      <td>2004</td>\n",
       "      <td>automatik</td>\n",
       "      <td>163</td>\n",
       "      <td>grand</td>\n",
       "      <td>125000</td>\n",
       "      <td>8</td>\n",
       "      <td>diesel</td>\n",
       "      <td>jeep</td>\n",
       "      <td>NaN</td>\n",
       "      <td>2016-03-14 00:00:00</td>\n",
       "      <td>0</td>\n",
       "      <td>90480</td>\n",
       "      <td>2016-04-05 12:47:46</td>\n",
       "    </tr>\n",
       "    <tr>\n",
       "      <th>3</th>\n",
       "      <td>2016-03-17 16:54:04</td>\n",
       "      <td>GOLF_4_1_4__3TÜRER</td>\n",
       "      <td>privat</td>\n",
       "      <td>Angebot</td>\n",
       "      <td>1500</td>\n",
       "      <td>test</td>\n",
       "      <td>kleinwagen</td>\n",
       "      <td>2001</td>\n",
       "      <td>manuell</td>\n",
       "      <td>75</td>\n",
       "      <td>golf</td>\n",
       "      <td>150000</td>\n",
       "      <td>6</td>\n",
       "      <td>benzin</td>\n",
       "      <td>volkswagen</td>\n",
       "      <td>nein</td>\n",
       "      <td>2016-03-17 00:00:00</td>\n",
       "      <td>0</td>\n",
       "      <td>91074</td>\n",
       "      <td>2016-03-17 17:40:17</td>\n",
       "    </tr>\n",
       "    <tr>\n",
       "      <th>4</th>\n",
       "      <td>2016-03-31 17:25:20</td>\n",
       "      <td>Skoda_Fabia_1.4_TDI_PD_Classic</td>\n",
       "      <td>privat</td>\n",
       "      <td>Angebot</td>\n",
       "      <td>3600</td>\n",
       "      <td>test</td>\n",
       "      <td>kleinwagen</td>\n",
       "      <td>2008</td>\n",
       "      <td>manuell</td>\n",
       "      <td>69</td>\n",
       "      <td>fabia</td>\n",
       "      <td>90000</td>\n",
       "      <td>7</td>\n",
       "      <td>diesel</td>\n",
       "      <td>skoda</td>\n",
       "      <td>nein</td>\n",
       "      <td>2016-03-31 00:00:00</td>\n",
       "      <td>0</td>\n",
       "      <td>60437</td>\n",
       "      <td>2016-04-06 10:17:21</td>\n",
       "    </tr>\n",
       "  </tbody>\n",
       "</table>\n",
       "</div>"
      ],
      "text/plain": [
       "           dateCrawled                            name  seller offerType  \\\n",
       "0  2016-03-24 11:52:17                      Golf_3_1.6  privat   Angebot   \n",
       "1  2016-03-24 10:58:45            A5_Sportback_2.7_Tdi  privat   Angebot   \n",
       "2  2016-03-14 12:52:21  Jeep_Grand_Cherokee_\"Overland\"  privat   Angebot   \n",
       "3  2016-03-17 16:54:04              GOLF_4_1_4__3TÜRER  privat   Angebot   \n",
       "4  2016-03-31 17:25:20  Skoda_Fabia_1.4_TDI_PD_Classic  privat   Angebot   \n",
       "\n",
       "   price abtest vehicleType  yearOfRegistration    gearbox  powerPS  model  \\\n",
       "0    480   test         NaN                1993    manuell        0   golf   \n",
       "1  18300   test       coupe                2011    manuell      190    NaN   \n",
       "2   9800   test         suv                2004  automatik      163  grand   \n",
       "3   1500   test  kleinwagen                2001    manuell       75   golf   \n",
       "4   3600   test  kleinwagen                2008    manuell       69  fabia   \n",
       "\n",
       "   kilometer  monthOfRegistration fuelType       brand notRepairedDamage  \\\n",
       "0     150000                    0   benzin  volkswagen               NaN   \n",
       "1     125000                    5   diesel        audi                ja   \n",
       "2     125000                    8   diesel        jeep               NaN   \n",
       "3     150000                    6   benzin  volkswagen              nein   \n",
       "4      90000                    7   diesel       skoda              nein   \n",
       "\n",
       "           dateCreated  nrOfPictures  postalCode             lastSeen  \n",
       "0  2016-03-24 00:00:00             0       70435  2016-04-07 03:16:57  \n",
       "1  2016-03-24 00:00:00             0       66954  2016-04-07 01:46:50  \n",
       "2  2016-03-14 00:00:00             0       90480  2016-04-05 12:47:46  \n",
       "3  2016-03-17 00:00:00             0       91074  2016-03-17 17:40:17  \n",
       "4  2016-03-31 00:00:00             0       60437  2016-04-06 10:17:21  "
      ]
     },
     "execution_count": 2,
     "metadata": {},
     "output_type": "execute_result"
    }
   ],
   "source": [
    "# read the file\n",
    "autos = pd.read_csv('/kaggle/input/used-cars-data-from-ebay-kleinanzeigen/autos.csv', encoding = 'cp1252')\n",
    "autos.head()"
   ]
  },
  {
   "cell_type": "markdown",
   "id": "2e1d8204",
   "metadata": {
    "papermill": {
     "duration": 0.013548,
     "end_time": "2023-03-20T19:05:02.836745",
     "exception": false,
     "start_time": "2023-03-20T19:05:02.823197",
     "status": "completed"
    },
    "tags": []
   },
   "source": [
    "# Cleaning Process"
   ]
  },
  {
   "cell_type": "markdown",
   "id": "d8f8a656",
   "metadata": {
    "papermill": {
     "duration": 0.013576,
     "end_time": "2023-03-20T19:05:02.864757",
     "exception": false,
     "start_time": "2023-03-20T19:05:02.851181",
     "status": "completed"
    },
    "tags": []
   },
   "source": [
    "## 1. renaming the column name"
   ]
  },
  {
   "cell_type": "code",
   "execution_count": 3,
   "id": "fe912f8b",
   "metadata": {
    "execution": {
     "iopub.execute_input": "2023-03-20T19:05:02.894271Z",
     "iopub.status.busy": "2023-03-20T19:05:02.893897Z",
     "iopub.status.idle": "2023-03-20T19:05:02.901660Z",
     "shell.execute_reply": "2023-03-20T19:05:02.900353Z"
    },
    "papermill": {
     "duration": 0.024995,
     "end_time": "2023-03-20T19:05:02.903721",
     "exception": false,
     "start_time": "2023-03-20T19:05:02.878726",
     "status": "completed"
    },
    "tags": []
   },
   "outputs": [
    {
     "data": {
      "text/plain": [
       "Index(['dateCrawled', 'name', 'seller', 'offerType', 'price', 'abtest',\n",
       "       'vehicleType', 'yearOfRegistration', 'gearbox', 'powerPS', 'model',\n",
       "       'kilometer', 'monthOfRegistration', 'fuelType', 'brand',\n",
       "       'notRepairedDamage', 'dateCreated', 'nrOfPictures', 'postalCode',\n",
       "       'lastSeen'],\n",
       "      dtype='object')"
      ]
     },
     "execution_count": 3,
     "metadata": {},
     "output_type": "execute_result"
    }
   ],
   "source": [
    "# view the existing column names\n",
    "autos.columns"
   ]
  },
  {
   "cell_type": "code",
   "execution_count": 4,
   "id": "55ee31ff",
   "metadata": {
    "execution": {
     "iopub.execute_input": "2023-03-20T19:05:02.933413Z",
     "iopub.status.busy": "2023-03-20T19:05:02.933064Z",
     "iopub.status.idle": "2023-03-20T19:05:02.940232Z",
     "shell.execute_reply": "2023-03-20T19:05:02.939098Z"
    },
    "papermill": {
     "duration": 0.024702,
     "end_time": "2023-03-20T19:05:02.942265",
     "exception": false,
     "start_time": "2023-03-20T19:05:02.917563",
     "status": "completed"
    },
    "scrolled": true,
    "tags": []
   },
   "outputs": [],
   "source": [
    "#Standandize column names \n",
    "autos.rename(columns = {'dateCrawled' : 'date_crawled',\n",
    "                        'offerType' : 'offer_type',\n",
    "                        'abtest' : 'ab_test', \n",
    "                        'vehicleType' : 'vehicle_type', \n",
    "                        'yearOfRegistration' : 'registration_year',\n",
    "                        'powerPS': 'power_PS',\n",
    "                        'monthOfRegistration' : 'registration_month',\n",
    "                        'fuelType' : 'fuel_type',\n",
    "                        'notRepairedDamage' : 'not_repaired_damage',\n",
    "                        'dateCreated' : 'date_created',\n",
    "                        'nrOfPictures' : 'no_of_pictures',\n",
    "                        'postalCode' : 'postal_code',\n",
    "                        'lastSeen' : 'last_seen',\n",
    "                          'kilometer' : 'odometer'}, inplace = True)"
   ]
  },
  {
   "cell_type": "markdown",
   "id": "a7f813da",
   "metadata": {
    "papermill": {
     "duration": 0.013837,
     "end_time": "2023-03-20T19:05:02.970514",
     "exception": false,
     "start_time": "2023-03-20T19:05:02.956677",
     "status": "completed"
    },
    "tags": []
   },
   "source": [
    "\n",
    "### Explore the data to identify other cleaning task needed"
   ]
  },
  {
   "cell_type": "code",
   "execution_count": 5,
   "id": "b5241f68",
   "metadata": {
    "execution": {
     "iopub.execute_input": "2023-03-20T19:05:02.999932Z",
     "iopub.status.busy": "2023-03-20T19:05:02.999551Z",
     "iopub.status.idle": "2023-03-20T19:05:03.005774Z",
     "shell.execute_reply": "2023-03-20T19:05:03.004375Z"
    },
    "papermill": {
     "duration": 0.024962,
     "end_time": "2023-03-20T19:05:03.009309",
     "exception": false,
     "start_time": "2023-03-20T19:05:02.984347",
     "status": "completed"
    },
    "tags": []
   },
   "outputs": [
    {
     "name": "stdout",
     "output_type": "stream",
     "text": [
      "shape:  (371528, 20)\n"
     ]
    }
   ],
   "source": [
    "# view the data\n",
    "print(\"shape: \", autos.shape)"
   ]
  },
  {
   "cell_type": "code",
   "execution_count": 6,
   "id": "c0493d3c",
   "metadata": {
    "execution": {
     "iopub.execute_input": "2023-03-20T19:05:03.041906Z",
     "iopub.status.busy": "2023-03-20T19:05:03.041061Z",
     "iopub.status.idle": "2023-03-20T19:05:03.250099Z",
     "shell.execute_reply": "2023-03-20T19:05:03.248631Z"
    },
    "papermill": {
     "duration": 0.22729,
     "end_time": "2023-03-20T19:05:03.252526",
     "exception": false,
     "start_time": "2023-03-20T19:05:03.025236",
     "status": "completed"
    },
    "tags": []
   },
   "outputs": [
    {
     "name": "stdout",
     "output_type": "stream",
     "text": [
      "<class 'pandas.core.frame.DataFrame'>\n",
      "RangeIndex: 371528 entries, 0 to 371527\n",
      "Data columns (total 20 columns):\n",
      " #   Column               Non-Null Count   Dtype \n",
      "---  ------               --------------   ----- \n",
      " 0   date_crawled         371528 non-null  object\n",
      " 1   name                 371528 non-null  object\n",
      " 2   seller               371528 non-null  object\n",
      " 3   offer_type           371528 non-null  object\n",
      " 4   price                371528 non-null  int64 \n",
      " 5   ab_test              371528 non-null  object\n",
      " 6   vehicle_type         333659 non-null  object\n",
      " 7   registration_year    371528 non-null  int64 \n",
      " 8   gearbox              351319 non-null  object\n",
      " 9   power_PS             371528 non-null  int64 \n",
      " 10  model                351044 non-null  object\n",
      " 11  odometer             371528 non-null  int64 \n",
      " 12  registration_month   371528 non-null  int64 \n",
      " 13  fuel_type            338142 non-null  object\n",
      " 14  brand                371528 non-null  object\n",
      " 15  not_repaired_damage  299468 non-null  object\n",
      " 16  date_created         371528 non-null  object\n",
      " 17  no_of_pictures       371528 non-null  int64 \n",
      " 18  postal_code          371528 non-null  int64 \n",
      " 19  last_seen            371528 non-null  object\n",
      "dtypes: int64(7), object(13)\n",
      "memory usage: 56.7+ MB\n"
     ]
    }
   ],
   "source": [
    "#examine the data\n",
    "autos.info()"
   ]
  },
  {
   "cell_type": "code",
   "execution_count": 7,
   "id": "7d5be41c",
   "metadata": {
    "execution": {
     "iopub.execute_input": "2023-03-20T19:05:03.284595Z",
     "iopub.status.busy": "2023-03-20T19:05:03.283662Z",
     "iopub.status.idle": "2023-03-20T19:05:04.614269Z",
     "shell.execute_reply": "2023-03-20T19:05:04.613349Z"
    },
    "papermill": {
     "duration": 1.348606,
     "end_time": "2023-03-20T19:05:04.616193",
     "exception": false,
     "start_time": "2023-03-20T19:05:03.267587",
     "status": "completed"
    },
    "scrolled": true,
    "tags": []
   },
   "outputs": [
    {
     "data": {
      "text/html": [
       "<div>\n",
       "<style scoped>\n",
       "    .dataframe tbody tr th:only-of-type {\n",
       "        vertical-align: middle;\n",
       "    }\n",
       "\n",
       "    .dataframe tbody tr th {\n",
       "        vertical-align: top;\n",
       "    }\n",
       "\n",
       "    .dataframe thead th {\n",
       "        text-align: right;\n",
       "    }\n",
       "</style>\n",
       "<table border=\"1\" class=\"dataframe\">\n",
       "  <thead>\n",
       "    <tr style=\"text-align: right;\">\n",
       "      <th></th>\n",
       "      <th>date_crawled</th>\n",
       "      <th>name</th>\n",
       "      <th>seller</th>\n",
       "      <th>offer_type</th>\n",
       "      <th>price</th>\n",
       "      <th>ab_test</th>\n",
       "      <th>vehicle_type</th>\n",
       "      <th>registration_year</th>\n",
       "      <th>gearbox</th>\n",
       "      <th>power_PS</th>\n",
       "      <th>model</th>\n",
       "      <th>odometer</th>\n",
       "      <th>registration_month</th>\n",
       "      <th>fuel_type</th>\n",
       "      <th>brand</th>\n",
       "      <th>not_repaired_damage</th>\n",
       "      <th>date_created</th>\n",
       "      <th>no_of_pictures</th>\n",
       "      <th>postal_code</th>\n",
       "      <th>last_seen</th>\n",
       "    </tr>\n",
       "  </thead>\n",
       "  <tbody>\n",
       "    <tr>\n",
       "      <th>count</th>\n",
       "      <td>371528</td>\n",
       "      <td>371528</td>\n",
       "      <td>371528</td>\n",
       "      <td>371528</td>\n",
       "      <td>3.715280e+05</td>\n",
       "      <td>371528</td>\n",
       "      <td>333659</td>\n",
       "      <td>371528.000000</td>\n",
       "      <td>351319</td>\n",
       "      <td>371528.000000</td>\n",
       "      <td>351044</td>\n",
       "      <td>371528.000000</td>\n",
       "      <td>371528.000000</td>\n",
       "      <td>338142</td>\n",
       "      <td>371528</td>\n",
       "      <td>299468</td>\n",
       "      <td>371528</td>\n",
       "      <td>371528.0</td>\n",
       "      <td>371528.00000</td>\n",
       "      <td>371528</td>\n",
       "    </tr>\n",
       "    <tr>\n",
       "      <th>unique</th>\n",
       "      <td>280500</td>\n",
       "      <td>233531</td>\n",
       "      <td>2</td>\n",
       "      <td>2</td>\n",
       "      <td>NaN</td>\n",
       "      <td>2</td>\n",
       "      <td>8</td>\n",
       "      <td>NaN</td>\n",
       "      <td>2</td>\n",
       "      <td>NaN</td>\n",
       "      <td>251</td>\n",
       "      <td>NaN</td>\n",
       "      <td>NaN</td>\n",
       "      <td>7</td>\n",
       "      <td>40</td>\n",
       "      <td>2</td>\n",
       "      <td>114</td>\n",
       "      <td>NaN</td>\n",
       "      <td>NaN</td>\n",
       "      <td>182806</td>\n",
       "    </tr>\n",
       "    <tr>\n",
       "      <th>top</th>\n",
       "      <td>2016-03-24 14:49:47</td>\n",
       "      <td>Ford_Fiesta</td>\n",
       "      <td>privat</td>\n",
       "      <td>Angebot</td>\n",
       "      <td>NaN</td>\n",
       "      <td>test</td>\n",
       "      <td>limousine</td>\n",
       "      <td>NaN</td>\n",
       "      <td>manuell</td>\n",
       "      <td>NaN</td>\n",
       "      <td>golf</td>\n",
       "      <td>NaN</td>\n",
       "      <td>NaN</td>\n",
       "      <td>benzin</td>\n",
       "      <td>volkswagen</td>\n",
       "      <td>nein</td>\n",
       "      <td>2016-04-03 00:00:00</td>\n",
       "      <td>NaN</td>\n",
       "      <td>NaN</td>\n",
       "      <td>2016-04-07 06:45:59</td>\n",
       "    </tr>\n",
       "    <tr>\n",
       "      <th>freq</th>\n",
       "      <td>7</td>\n",
       "      <td>657</td>\n",
       "      <td>371525</td>\n",
       "      <td>371516</td>\n",
       "      <td>NaN</td>\n",
       "      <td>192585</td>\n",
       "      <td>95894</td>\n",
       "      <td>NaN</td>\n",
       "      <td>274214</td>\n",
       "      <td>NaN</td>\n",
       "      <td>30070</td>\n",
       "      <td>NaN</td>\n",
       "      <td>NaN</td>\n",
       "      <td>223857</td>\n",
       "      <td>79640</td>\n",
       "      <td>263182</td>\n",
       "      <td>14450</td>\n",
       "      <td>NaN</td>\n",
       "      <td>NaN</td>\n",
       "      <td>17</td>\n",
       "    </tr>\n",
       "    <tr>\n",
       "      <th>mean</th>\n",
       "      <td>NaN</td>\n",
       "      <td>NaN</td>\n",
       "      <td>NaN</td>\n",
       "      <td>NaN</td>\n",
       "      <td>1.729514e+04</td>\n",
       "      <td>NaN</td>\n",
       "      <td>NaN</td>\n",
       "      <td>2004.577997</td>\n",
       "      <td>NaN</td>\n",
       "      <td>115.549477</td>\n",
       "      <td>NaN</td>\n",
       "      <td>125618.688228</td>\n",
       "      <td>5.734445</td>\n",
       "      <td>NaN</td>\n",
       "      <td>NaN</td>\n",
       "      <td>NaN</td>\n",
       "      <td>NaN</td>\n",
       "      <td>0.0</td>\n",
       "      <td>50820.66764</td>\n",
       "      <td>NaN</td>\n",
       "    </tr>\n",
       "    <tr>\n",
       "      <th>std</th>\n",
       "      <td>NaN</td>\n",
       "      <td>NaN</td>\n",
       "      <td>NaN</td>\n",
       "      <td>NaN</td>\n",
       "      <td>3.587954e+06</td>\n",
       "      <td>NaN</td>\n",
       "      <td>NaN</td>\n",
       "      <td>92.866598</td>\n",
       "      <td>NaN</td>\n",
       "      <td>192.139578</td>\n",
       "      <td>NaN</td>\n",
       "      <td>40112.337051</td>\n",
       "      <td>3.712412</td>\n",
       "      <td>NaN</td>\n",
       "      <td>NaN</td>\n",
       "      <td>NaN</td>\n",
       "      <td>NaN</td>\n",
       "      <td>0.0</td>\n",
       "      <td>25799.08247</td>\n",
       "      <td>NaN</td>\n",
       "    </tr>\n",
       "    <tr>\n",
       "      <th>min</th>\n",
       "      <td>NaN</td>\n",
       "      <td>NaN</td>\n",
       "      <td>NaN</td>\n",
       "      <td>NaN</td>\n",
       "      <td>0.000000e+00</td>\n",
       "      <td>NaN</td>\n",
       "      <td>NaN</td>\n",
       "      <td>1000.000000</td>\n",
       "      <td>NaN</td>\n",
       "      <td>0.000000</td>\n",
       "      <td>NaN</td>\n",
       "      <td>5000.000000</td>\n",
       "      <td>0.000000</td>\n",
       "      <td>NaN</td>\n",
       "      <td>NaN</td>\n",
       "      <td>NaN</td>\n",
       "      <td>NaN</td>\n",
       "      <td>0.0</td>\n",
       "      <td>1067.00000</td>\n",
       "      <td>NaN</td>\n",
       "    </tr>\n",
       "    <tr>\n",
       "      <th>25%</th>\n",
       "      <td>NaN</td>\n",
       "      <td>NaN</td>\n",
       "      <td>NaN</td>\n",
       "      <td>NaN</td>\n",
       "      <td>1.150000e+03</td>\n",
       "      <td>NaN</td>\n",
       "      <td>NaN</td>\n",
       "      <td>1999.000000</td>\n",
       "      <td>NaN</td>\n",
       "      <td>70.000000</td>\n",
       "      <td>NaN</td>\n",
       "      <td>125000.000000</td>\n",
       "      <td>3.000000</td>\n",
       "      <td>NaN</td>\n",
       "      <td>NaN</td>\n",
       "      <td>NaN</td>\n",
       "      <td>NaN</td>\n",
       "      <td>0.0</td>\n",
       "      <td>30459.00000</td>\n",
       "      <td>NaN</td>\n",
       "    </tr>\n",
       "    <tr>\n",
       "      <th>50%</th>\n",
       "      <td>NaN</td>\n",
       "      <td>NaN</td>\n",
       "      <td>NaN</td>\n",
       "      <td>NaN</td>\n",
       "      <td>2.950000e+03</td>\n",
       "      <td>NaN</td>\n",
       "      <td>NaN</td>\n",
       "      <td>2003.000000</td>\n",
       "      <td>NaN</td>\n",
       "      <td>105.000000</td>\n",
       "      <td>NaN</td>\n",
       "      <td>150000.000000</td>\n",
       "      <td>6.000000</td>\n",
       "      <td>NaN</td>\n",
       "      <td>NaN</td>\n",
       "      <td>NaN</td>\n",
       "      <td>NaN</td>\n",
       "      <td>0.0</td>\n",
       "      <td>49610.00000</td>\n",
       "      <td>NaN</td>\n",
       "    </tr>\n",
       "    <tr>\n",
       "      <th>75%</th>\n",
       "      <td>NaN</td>\n",
       "      <td>NaN</td>\n",
       "      <td>NaN</td>\n",
       "      <td>NaN</td>\n",
       "      <td>7.200000e+03</td>\n",
       "      <td>NaN</td>\n",
       "      <td>NaN</td>\n",
       "      <td>2008.000000</td>\n",
       "      <td>NaN</td>\n",
       "      <td>150.000000</td>\n",
       "      <td>NaN</td>\n",
       "      <td>150000.000000</td>\n",
       "      <td>9.000000</td>\n",
       "      <td>NaN</td>\n",
       "      <td>NaN</td>\n",
       "      <td>NaN</td>\n",
       "      <td>NaN</td>\n",
       "      <td>0.0</td>\n",
       "      <td>71546.00000</td>\n",
       "      <td>NaN</td>\n",
       "    </tr>\n",
       "    <tr>\n",
       "      <th>max</th>\n",
       "      <td>NaN</td>\n",
       "      <td>NaN</td>\n",
       "      <td>NaN</td>\n",
       "      <td>NaN</td>\n",
       "      <td>2.147484e+09</td>\n",
       "      <td>NaN</td>\n",
       "      <td>NaN</td>\n",
       "      <td>9999.000000</td>\n",
       "      <td>NaN</td>\n",
       "      <td>20000.000000</td>\n",
       "      <td>NaN</td>\n",
       "      <td>150000.000000</td>\n",
       "      <td>12.000000</td>\n",
       "      <td>NaN</td>\n",
       "      <td>NaN</td>\n",
       "      <td>NaN</td>\n",
       "      <td>NaN</td>\n",
       "      <td>0.0</td>\n",
       "      <td>99998.00000</td>\n",
       "      <td>NaN</td>\n",
       "    </tr>\n",
       "  </tbody>\n",
       "</table>\n",
       "</div>"
      ],
      "text/plain": [
       "               date_crawled         name  seller offer_type         price  \\\n",
       "count                371528       371528  371528     371528  3.715280e+05   \n",
       "unique               280500       233531       2          2           NaN   \n",
       "top     2016-03-24 14:49:47  Ford_Fiesta  privat    Angebot           NaN   \n",
       "freq                      7          657  371525     371516           NaN   \n",
       "mean                    NaN          NaN     NaN        NaN  1.729514e+04   \n",
       "std                     NaN          NaN     NaN        NaN  3.587954e+06   \n",
       "min                     NaN          NaN     NaN        NaN  0.000000e+00   \n",
       "25%                     NaN          NaN     NaN        NaN  1.150000e+03   \n",
       "50%                     NaN          NaN     NaN        NaN  2.950000e+03   \n",
       "75%                     NaN          NaN     NaN        NaN  7.200000e+03   \n",
       "max                     NaN          NaN     NaN        NaN  2.147484e+09   \n",
       "\n",
       "       ab_test vehicle_type  registration_year  gearbox       power_PS  \\\n",
       "count   371528       333659      371528.000000   351319  371528.000000   \n",
       "unique       2            8                NaN        2            NaN   \n",
       "top       test    limousine                NaN  manuell            NaN   \n",
       "freq    192585        95894                NaN   274214            NaN   \n",
       "mean       NaN          NaN        2004.577997      NaN     115.549477   \n",
       "std        NaN          NaN          92.866598      NaN     192.139578   \n",
       "min        NaN          NaN        1000.000000      NaN       0.000000   \n",
       "25%        NaN          NaN        1999.000000      NaN      70.000000   \n",
       "50%        NaN          NaN        2003.000000      NaN     105.000000   \n",
       "75%        NaN          NaN        2008.000000      NaN     150.000000   \n",
       "max        NaN          NaN        9999.000000      NaN   20000.000000   \n",
       "\n",
       "         model       odometer  registration_month fuel_type       brand  \\\n",
       "count   351044  371528.000000       371528.000000    338142      371528   \n",
       "unique     251            NaN                 NaN         7          40   \n",
       "top       golf            NaN                 NaN    benzin  volkswagen   \n",
       "freq     30070            NaN                 NaN    223857       79640   \n",
       "mean       NaN  125618.688228            5.734445       NaN         NaN   \n",
       "std        NaN   40112.337051            3.712412       NaN         NaN   \n",
       "min        NaN    5000.000000            0.000000       NaN         NaN   \n",
       "25%        NaN  125000.000000            3.000000       NaN         NaN   \n",
       "50%        NaN  150000.000000            6.000000       NaN         NaN   \n",
       "75%        NaN  150000.000000            9.000000       NaN         NaN   \n",
       "max        NaN  150000.000000           12.000000       NaN         NaN   \n",
       "\n",
       "       not_repaired_damage         date_created  no_of_pictures   postal_code  \\\n",
       "count               299468               371528        371528.0  371528.00000   \n",
       "unique                   2                  114             NaN           NaN   \n",
       "top                   nein  2016-04-03 00:00:00             NaN           NaN   \n",
       "freq                263182                14450             NaN           NaN   \n",
       "mean                   NaN                  NaN             0.0   50820.66764   \n",
       "std                    NaN                  NaN             0.0   25799.08247   \n",
       "min                    NaN                  NaN             0.0    1067.00000   \n",
       "25%                    NaN                  NaN             0.0   30459.00000   \n",
       "50%                    NaN                  NaN             0.0   49610.00000   \n",
       "75%                    NaN                  NaN             0.0   71546.00000   \n",
       "max                    NaN                  NaN             0.0   99998.00000   \n",
       "\n",
       "                  last_seen  \n",
       "count                371528  \n",
       "unique               182806  \n",
       "top     2016-04-07 06:45:59  \n",
       "freq                     17  \n",
       "mean                    NaN  \n",
       "std                     NaN  \n",
       "min                     NaN  \n",
       "25%                     NaN  \n",
       "50%                     NaN  \n",
       "75%                     NaN  \n",
       "max                     NaN  "
      ]
     },
     "execution_count": 7,
     "metadata": {},
     "output_type": "execute_result"
    }
   ],
   "source": [
    "autos.describe(include = 'all')"
   ]
  },
  {
   "cell_type": "markdown",
   "id": "9fa8582c",
   "metadata": {
    "papermill": {
     "duration": 0.014777,
     "end_time": "2023-03-20T19:05:04.645775",
     "exception": false,
     "start_time": "2023-03-20T19:05:04.630998",
     "status": "completed"
    },
    "tags": []
   },
   "source": [
    "From the data, the following can be observed:\n",
    "* no_of_pictures has 1 unqiue and should be dropped.\n",
    "* date_crawled, last_seen, date_created all appear as string and should be examined.\n",
    "* Standardization of language in columns such as: seller, offer_type, gearbox, not_repaired_damage, fuel_type, vehicle_type. "
   ]
  },
  {
   "cell_type": "markdown",
   "id": "ea24e2c6",
   "metadata": {
    "papermill": {
     "duration": 0.014186,
     "end_time": "2023-03-20T19:05:04.674150",
     "exception": false,
     "start_time": "2023-03-20T19:05:04.659964",
     "status": "completed"
    },
    "tags": []
   },
   "source": [
    "## 2.  Dropping irrelevant data"
   ]
  },
  {
   "cell_type": "code",
   "execution_count": 8,
   "id": "17dcdf2b",
   "metadata": {
    "execution": {
     "iopub.execute_input": "2023-03-20T19:05:04.704786Z",
     "iopub.status.busy": "2023-03-20T19:05:04.704241Z",
     "iopub.status.idle": "2023-03-20T19:05:04.758263Z",
     "shell.execute_reply": "2023-03-20T19:05:04.757248Z"
    },
    "papermill": {
     "duration": 0.072319,
     "end_time": "2023-03-20T19:05:04.760669",
     "exception": false,
     "start_time": "2023-03-20T19:05:04.688350",
     "status": "completed"
    },
    "tags": []
   },
   "outputs": [],
   "source": [
    "# drop no_of_pictures column\n",
    "autos = autos.drop('no_of_pictures', axis = 1)"
   ]
  },
  {
   "cell_type": "code",
   "execution_count": 9,
   "id": "e14e0b12",
   "metadata": {
    "execution": {
     "iopub.execute_input": "2023-03-20T19:05:04.791566Z",
     "iopub.status.busy": "2023-03-20T19:05:04.790912Z",
     "iopub.status.idle": "2023-03-20T19:05:05.594144Z",
     "shell.execute_reply": "2023-03-20T19:05:05.592936Z"
    },
    "papermill": {
     "duration": 0.82093,
     "end_time": "2023-03-20T19:05:05.596249",
     "exception": false,
     "start_time": "2023-03-20T19:05:04.775319",
     "status": "completed"
    },
    "tags": []
   },
   "outputs": [
    {
     "name": "stdout",
     "output_type": "stream",
     "text": [
      "data shape before duplicate:  (371528, 19)\n",
      "data shape after duplicate:  (371524, 19)\n"
     ]
    }
   ],
   "source": [
    "#drop duplicate data\n",
    "print('data shape before duplicate: ', autos.shape)\n",
    "autos = autos.drop_duplicates()\n",
    "print('data shape after duplicate: ', autos.shape)\n"
   ]
  },
  {
   "cell_type": "markdown",
   "id": "23225913",
   "metadata": {
    "papermill": {
     "duration": 0.014643,
     "end_time": "2023-03-20T19:05:05.626667",
     "exception": false,
     "start_time": "2023-03-20T19:05:05.612024",
     "status": "completed"
    },
    "tags": []
   },
   "source": [
    "#### There are 4 duplicate entires"
   ]
  },
  {
   "cell_type": "markdown",
   "id": "4e55b670",
   "metadata": {
    "papermill": {
     "duration": 0.014437,
     "end_time": "2023-03-20T19:05:05.656321",
     "exception": false,
     "start_time": "2023-03-20T19:05:05.641884",
     "status": "completed"
    },
    "tags": []
   },
   "source": [
    "## 3.  Missing values"
   ]
  },
  {
   "cell_type": "code",
   "execution_count": 10,
   "id": "632fc909",
   "metadata": {
    "execution": {
     "iopub.execute_input": "2023-03-20T19:05:05.687530Z",
     "iopub.status.busy": "2023-03-20T19:05:05.686832Z",
     "iopub.status.idle": "2023-03-20T19:05:05.876227Z",
     "shell.execute_reply": "2023-03-20T19:05:05.875141Z"
    },
    "papermill": {
     "duration": 0.207406,
     "end_time": "2023-03-20T19:05:05.878401",
     "exception": false,
     "start_time": "2023-03-20T19:05:05.670995",
     "status": "completed"
    },
    "scrolled": true,
    "tags": []
   },
   "outputs": [
    {
     "name": "stdout",
     "output_type": "stream",
     "text": [
      "not_repaired_damage    19.40\n",
      "vehicle_type           10.19\n",
      "fuel_type               8.99\n",
      "model                   5.51\n",
      "gearbox                 5.44\n",
      "date_crawled            0.00\n",
      "odometer                0.00\n",
      "postal_code             0.00\n",
      "date_created            0.00\n",
      "brand                   0.00\n",
      "registration_month      0.00\n",
      "power_PS                0.00\n",
      "name                    0.00\n",
      "registration_year       0.00\n",
      "ab_test                 0.00\n",
      "price                   0.00\n",
      "offer_type              0.00\n",
      "seller                  0.00\n",
      "last_seen               0.00\n",
      "dtype: float64\n"
     ]
    }
   ],
   "source": [
    "# Percentage of missing data\n",
    "autos_null_sum = autos.isnull().sum()\n",
    "autos_nperc = (autos_null_sum * 100/ len(autos))\n",
    "print(round(autos_nperc,2).sort_values(ascending = False))"
   ]
  },
  {
   "cell_type": "markdown",
   "id": "898ec567",
   "metadata": {
    "papermill": {
     "duration": 0.013949,
     "end_time": "2023-03-20T19:05:05.907928",
     "exception": false,
     "start_time": "2023-03-20T19:05:05.893979",
     "status": "completed"
    },
    "tags": []
   },
   "source": [
    "#### Only 5 columns have nulls and are less tha 20% so they can be worked with\n"
   ]
  },
  {
   "cell_type": "markdown",
   "id": "a8067552",
   "metadata": {
    "papermill": {
     "duration": 0.014071,
     "end_time": "2023-03-20T19:05:05.936234",
     "exception": false,
     "start_time": "2023-03-20T19:05:05.922163",
     "status": "completed"
    },
    "tags": []
   },
   "source": [
    "## 4. Checking price and odometer for possible cleaning "
   ]
  },
  {
   "cell_type": "code",
   "execution_count": 11,
   "id": "60058347",
   "metadata": {
    "execution": {
     "iopub.execute_input": "2023-03-20T19:05:05.969263Z",
     "iopub.status.busy": "2023-03-20T19:05:05.968836Z",
     "iopub.status.idle": "2023-03-20T19:05:06.000316Z",
     "shell.execute_reply": "2023-03-20T19:05:05.999180Z"
    },
    "papermill": {
     "duration": 0.05066,
     "end_time": "2023-03-20T19:05:06.002398",
     "exception": false,
     "start_time": "2023-03-20T19:05:05.951738",
     "status": "completed"
    },
    "tags": []
   },
   "outputs": [
    {
     "name": "stdout",
     "output_type": "stream",
     "text": [
      "unqiue : (5597,)\n",
      "count    3.715240e+05\n",
      "mean     1.729530e+04\n",
      "std      3.587973e+06\n",
      "min      0.000000e+00\n",
      "25%      1.150000e+03\n",
      "50%      2.950000e+03\n",
      "75%      7.200000e+03\n",
      "max      2.147484e+09\n",
      "Name: price, dtype: float64\n",
      "0         10778\n",
      "500        5670\n",
      "1500       5394\n",
      "1000       4648\n",
      "1200       4594\n",
      "          ...  \n",
      "349000        1\n",
      "8889          1\n",
      "3440          1\n",
      "1997          1\n",
      "10985         1\n",
      "Name: price, Length: 5597, dtype: int64\n",
      "0           480\n",
      "1         18300\n",
      "2          9800\n",
      "3          1500\n",
      "4          3600\n",
      "          ...  \n",
      "371523     2200\n",
      "371524     1199\n",
      "371525     9200\n",
      "371526     3400\n",
      "371527    28990\n",
      "Name: price, Length: 371524, dtype: int64\n"
     ]
    }
   ],
   "source": [
    "#price column details\n",
    "print('unqiue :',autos['price'].unique().shape)\n",
    "print(autos['price'].describe())\n",
    "print(autos['price'].value_counts())\n",
    "print(autos['price'].sort_index(ascending = True))"
   ]
  },
  {
   "cell_type": "code",
   "execution_count": 12,
   "id": "0e7e33d9",
   "metadata": {
    "execution": {
     "iopub.execute_input": "2023-03-20T19:05:06.035486Z",
     "iopub.status.busy": "2023-03-20T19:05:06.034835Z",
     "iopub.status.idle": "2023-03-20T19:05:06.236178Z",
     "shell.execute_reply": "2023-03-20T19:05:06.235019Z"
    },
    "papermill": {
     "duration": 0.22059,
     "end_time": "2023-03-20T19:05:06.238323",
     "exception": false,
     "start_time": "2023-03-20T19:05:06.017733",
     "status": "completed"
    },
    "tags": []
   },
   "outputs": [
    {
     "data": {
      "image/png": "[encoded data removed]",
      "text/plain": [
       "<Figure size 640x480 with 1 Axes>"
      ]
     },
     "metadata": {},
     "output_type": "display_data"
    }
   ],
   "source": [
    "# visualize outlier\n",
    "sns.boxplot(x ='price', data = autos, palette = 'dark:#5A9_r')\n",
    "plt.show()"
   ]
  },
  {
   "cell_type": "markdown",
   "id": "248ed442",
   "metadata": {
    "papermill": {
     "duration": 0.016508,
     "end_time": "2023-03-20T19:05:06.270398",
     "exception": false,
     "start_time": "2023-03-20T19:05:06.253890",
     "status": "completed"
    },
    "tags": []
   },
   "source": [
    "#### Due to the large amount of unqiue values and some odd values looking out of place which could possibly be wrong entries or errors causing outliers\n",
    "A used car with price of 349000 looks like wrong entry so outliers should be removed to prevent skewing the data."
   ]
  },
  {
   "cell_type": "code",
   "execution_count": 13,
   "id": "8dc65f3d",
   "metadata": {
    "execution": {
     "iopub.execute_input": "2023-03-20T19:05:06.305024Z",
     "iopub.status.busy": "2023-03-20T19:05:06.304576Z",
     "iopub.status.idle": "2023-03-20T19:05:06.401820Z",
     "shell.execute_reply": "2023-03-20T19:05:06.400392Z"
    },
    "papermill": {
     "duration": 0.116879,
     "end_time": "2023-03-20T19:05:06.404173",
     "exception": false,
     "start_time": "2023-03-20T19:05:06.287294",
     "status": "completed"
    },
    "tags": []
   },
   "outputs": [
    {
     "name": "stdout",
     "output_type": "stream",
     "text": [
      "Number of Rows and Columns before removing outliers:  (371524, 19)\n",
      "Number of Rows and Columns after removing outliers:  (370671, 19)\n"
     ]
    }
   ],
   "source": [
    "print('Number of Rows and Columns before removing outliers: ', autos.shape)\n",
    "# identifying and removing outliers using IQR in price column\n",
    "q1 = 1150 #the 25% of price\n",
    "q3 = 7200 #the 275% of price\n",
    "\n",
    "iqr_value = q3-q1 \n",
    "\n",
    "#finding lower and upper bound\n",
    "lower_bound = q1 - (10 * iqr_value)\n",
    "upper_bound = q3 + (10 * iqr_value)\n",
    "\n",
    "#removing outlier using the bounds\n",
    "autos = autos[autos['price'].between(lower_bound, upper_bound)]\n",
    "\n",
    "print('Number of Rows and Columns after removing outliers: ', autos.shape)"
   ]
  },
  {
   "cell_type": "markdown",
   "id": "054f4d23",
   "metadata": {
    "papermill": {
     "duration": 0.014921,
     "end_time": "2023-03-20T19:05:06.439682",
     "exception": false,
     "start_time": "2023-03-20T19:05:06.424761",
     "status": "completed"
    },
    "tags": []
   },
   "source": [
    " The number of number of rows decreased by almost 1,000 "
   ]
  },
  {
   "cell_type": "code",
   "execution_count": 14,
   "id": "48a88da5",
   "metadata": {
    "execution": {
     "iopub.execute_input": "2023-03-20T19:05:06.473806Z",
     "iopub.status.busy": "2023-03-20T19:05:06.473371Z",
     "iopub.status.idle": "2023-03-20T19:05:06.661495Z",
     "shell.execute_reply": "2023-03-20T19:05:06.660465Z"
    },
    "papermill": {
     "duration": 0.20707,
     "end_time": "2023-03-20T19:05:06.663453",
     "exception": false,
     "start_time": "2023-03-20T19:05:06.456383",
     "status": "completed"
    },
    "tags": []
   },
   "outputs": [
    {
     "data": {
      "image/png": "[encoded data removed]",
      "text/plain": [
       "<Figure size 640x480 with 1 Axes>"
      ]
     },
     "metadata": {},
     "output_type": "display_data"
    }
   ],
   "source": [
    "#visualize outlier removed\n",
    "sns.boxplot(x ='price', data = autos, palette = 'dark:#5A9_r')\n",
    "plt.show()"
   ]
  },
  {
   "cell_type": "code",
   "execution_count": 15,
   "id": "42472b51",
   "metadata": {
    "execution": {
     "iopub.execute_input": "2023-03-20T19:05:06.696251Z",
     "iopub.status.busy": "2023-03-20T19:05:06.695411Z",
     "iopub.status.idle": "2023-03-20T19:05:06.798108Z",
     "shell.execute_reply": "2023-03-20T19:05:06.797040Z"
    },
    "papermill": {
     "duration": 0.121453,
     "end_time": "2023-03-20T19:05:06.800271",
     "exception": false,
     "start_time": "2023-03-20T19:05:06.678818",
     "status": "completed"
    },
    "tags": []
   },
   "outputs": [
    {
     "name": "stdout",
     "output_type": "stream",
     "text": [
      "unqiue : (13,)\n",
      "count    370671.000000\n",
      "mean     125774.635728\n",
      "std       39957.139067\n",
      "min        5000.000000\n",
      "25%      125000.000000\n",
      "50%      150000.000000\n",
      "75%      150000.000000\n",
      "max      150000.000000\n",
      "Name: odometer_km, dtype: float64\n",
      "150000    240676\n",
      "125000     38025\n",
      "100000     15877\n",
      "90000      12496\n",
      "80000      11022\n",
      "70000       9742\n",
      "60000       8609\n",
      "50000       7555\n",
      "5000        6937\n",
      "40000       6306\n",
      "30000       5964\n",
      "20000       5569\n",
      "10000       1893\n",
      "Name: odometer_km, dtype: int64\n"
     ]
    }
   ],
   "source": [
    "# convert odometer to km\n",
    "autos['odometer_km'] = autos['odometer']\n",
    "#drop odometer\n",
    "autos = autos.drop('odometer', axis = 1)\n",
    "#odometer column details\n",
    "print('unqiue :',autos['odometer_km'].unique().shape)\n",
    "print(autos['odometer_km'].describe())\n",
    "print(autos['odometer_km'].value_counts())\n"
   ]
  },
  {
   "cell_type": "code",
   "execution_count": 16,
   "id": "ef6e9e3b",
   "metadata": {
    "execution": {
     "iopub.execute_input": "2023-03-20T19:05:06.833569Z",
     "iopub.status.busy": "2023-03-20T19:05:06.833214Z",
     "iopub.status.idle": "2023-03-20T19:05:07.069898Z",
     "shell.execute_reply": "2023-03-20T19:05:07.068778Z"
    },
    "papermill": {
     "duration": 0.255669,
     "end_time": "2023-03-20T19:05:07.071986",
     "exception": false,
     "start_time": "2023-03-20T19:05:06.816317",
     "status": "completed"
    },
    "scrolled": true,
    "tags": []
   },
   "outputs": [
    {
     "data": {
      "image/png": "[encoded data removed]",
      "text/plain": [
       "<Figure size 640x480 with 1 Axes>"
      ]
     },
     "metadata": {},
     "output_type": "display_data"
    }
   ],
   "source": [
    "#check for outlier\n",
    "sns.boxplot(x ='odometer_km', data = autos, palette = 'dark:#5A9_r')\n",
    "plt.show()"
   ]
  },
  {
   "cell_type": "markdown",
   "id": "200447a4",
   "metadata": {
    "papermill": {
     "duration": 0.015351,
     "end_time": "2023-03-20T19:05:07.103151",
     "exception": false,
     "start_time": "2023-03-20T19:05:07.087800",
     "status": "completed"
    },
    "tags": []
   },
   "source": [
    "#### The unique numbers are few and there don't seem to be wrong entries or errors causing outliers"
   ]
  },
  {
   "cell_type": "markdown",
   "id": "6d30bf9f",
   "metadata": {
    "papermill": {
     "duration": 0.015332,
     "end_time": "2023-03-20T19:05:07.133982",
     "exception": false,
     "start_time": "2023-03-20T19:05:07.118650",
     "status": "completed"
    },
    "tags": []
   },
   "source": [
    "## 5. Checking date columns for poosible cleaning\n",
    "The date columns are:\n",
    "* date_crawled\n",
    "* date_created\n",
    "* registration_month\n",
    "* registration_year\n",
    "* last_seen.\n",
    "\n",
    "\n",
    "registration_month, registration_year already exist as numerics"
   ]
  },
  {
   "cell_type": "code",
   "execution_count": 17,
   "id": "774b21fe",
   "metadata": {
    "execution": {
     "iopub.execute_input": "2023-03-20T19:05:07.167090Z",
     "iopub.status.busy": "2023-03-20T19:05:07.166656Z",
     "iopub.status.idle": "2023-03-20T19:05:07.206158Z",
     "shell.execute_reply": "2023-03-20T19:05:07.205259Z"
    },
    "papermill": {
     "duration": 0.058205,
     "end_time": "2023-03-20T19:05:07.207930",
     "exception": false,
     "start_time": "2023-03-20T19:05:07.149725",
     "status": "completed"
    },
    "tags": []
   },
   "outputs": [
    {
     "data": {
      "text/html": [
       "<div>\n",
       "<style scoped>\n",
       "    .dataframe tbody tr th:only-of-type {\n",
       "        vertical-align: middle;\n",
       "    }\n",
       "\n",
       "    .dataframe tbody tr th {\n",
       "        vertical-align: top;\n",
       "    }\n",
       "\n",
       "    .dataframe thead th {\n",
       "        text-align: right;\n",
       "    }\n",
       "</style>\n",
       "<table border=\"1\" class=\"dataframe\">\n",
       "  <thead>\n",
       "    <tr style=\"text-align: right;\">\n",
       "      <th></th>\n",
       "      <th>registration_year</th>\n",
       "      <th>registration_month</th>\n",
       "    </tr>\n",
       "  </thead>\n",
       "  <tbody>\n",
       "    <tr>\n",
       "      <th>count</th>\n",
       "      <td>370671.000000</td>\n",
       "      <td>370671.000000</td>\n",
       "    </tr>\n",
       "    <tr>\n",
       "      <th>mean</th>\n",
       "      <td>2004.536549</td>\n",
       "      <td>5.735544</td>\n",
       "    </tr>\n",
       "    <tr>\n",
       "      <th>std</th>\n",
       "      <td>90.820459</td>\n",
       "      <td>3.713072</td>\n",
       "    </tr>\n",
       "    <tr>\n",
       "      <th>min</th>\n",
       "      <td>1000.000000</td>\n",
       "      <td>0.000000</td>\n",
       "    </tr>\n",
       "    <tr>\n",
       "      <th>25%</th>\n",
       "      <td>1999.000000</td>\n",
       "      <td>3.000000</td>\n",
       "    </tr>\n",
       "    <tr>\n",
       "      <th>50%</th>\n",
       "      <td>2003.000000</td>\n",
       "      <td>6.000000</td>\n",
       "    </tr>\n",
       "    <tr>\n",
       "      <th>75%</th>\n",
       "      <td>2008.000000</td>\n",
       "      <td>9.000000</td>\n",
       "    </tr>\n",
       "    <tr>\n",
       "      <th>max</th>\n",
       "      <td>9999.000000</td>\n",
       "      <td>12.000000</td>\n",
       "    </tr>\n",
       "  </tbody>\n",
       "</table>\n",
       "</div>"
      ],
      "text/plain": [
       "       registration_year  registration_month\n",
       "count      370671.000000       370671.000000\n",
       "mean         2004.536549            5.735544\n",
       "std            90.820459            3.713072\n",
       "min          1000.000000            0.000000\n",
       "25%          1999.000000            3.000000\n",
       "50%          2003.000000            6.000000\n",
       "75%          2008.000000            9.000000\n",
       "max          9999.000000           12.000000"
      ]
     },
     "execution_count": 17,
     "metadata": {},
     "output_type": "execute_result"
    }
   ],
   "source": [
    "autos[['registration_year',\n",
    "               'registration_month']].describe()\n"
   ]
  },
  {
   "cell_type": "code",
   "execution_count": 18,
   "id": "503c8df3",
   "metadata": {
    "execution": {
     "iopub.execute_input": "2023-03-20T19:05:07.241567Z",
     "iopub.status.busy": "2023-03-20T19:05:07.240873Z",
     "iopub.status.idle": "2023-03-20T19:05:07.262164Z",
     "shell.execute_reply": "2023-03-20T19:05:07.261231Z"
    },
    "papermill": {
     "duration": 0.040605,
     "end_time": "2023-03-20T19:05:07.264292",
     "exception": false,
     "start_time": "2023-03-20T19:05:07.223687",
     "status": "completed"
    },
    "tags": []
   },
   "outputs": [
    {
     "data": {
      "text/html": [
       "<div>\n",
       "<style scoped>\n",
       "    .dataframe tbody tr th:only-of-type {\n",
       "        vertical-align: middle;\n",
       "    }\n",
       "\n",
       "    .dataframe tbody tr th {\n",
       "        vertical-align: top;\n",
       "    }\n",
       "\n",
       "    .dataframe thead th {\n",
       "        text-align: right;\n",
       "    }\n",
       "</style>\n",
       "<table border=\"1\" class=\"dataframe\">\n",
       "  <thead>\n",
       "    <tr style=\"text-align: right;\">\n",
       "      <th></th>\n",
       "      <th>date_crawled</th>\n",
       "      <th>date_created</th>\n",
       "      <th>last_seen</th>\n",
       "    </tr>\n",
       "  </thead>\n",
       "  <tbody>\n",
       "    <tr>\n",
       "      <th>0</th>\n",
       "      <td>2016-03-24 11:52:17</td>\n",
       "      <td>2016-03-24 00:00:00</td>\n",
       "      <td>2016-04-07 03:16:57</td>\n",
       "    </tr>\n",
       "    <tr>\n",
       "      <th>1</th>\n",
       "      <td>2016-03-24 10:58:45</td>\n",
       "      <td>2016-03-24 00:00:00</td>\n",
       "      <td>2016-04-07 01:46:50</td>\n",
       "    </tr>\n",
       "    <tr>\n",
       "      <th>2</th>\n",
       "      <td>2016-03-14 12:52:21</td>\n",
       "      <td>2016-03-14 00:00:00</td>\n",
       "      <td>2016-04-05 12:47:46</td>\n",
       "    </tr>\n",
       "    <tr>\n",
       "      <th>3</th>\n",
       "      <td>2016-03-17 16:54:04</td>\n",
       "      <td>2016-03-17 00:00:00</td>\n",
       "      <td>2016-03-17 17:40:17</td>\n",
       "    </tr>\n",
       "    <tr>\n",
       "      <th>4</th>\n",
       "      <td>2016-03-31 17:25:20</td>\n",
       "      <td>2016-03-31 00:00:00</td>\n",
       "      <td>2016-04-06 10:17:21</td>\n",
       "    </tr>\n",
       "  </tbody>\n",
       "</table>\n",
       "</div>"
      ],
      "text/plain": [
       "          date_crawled         date_created            last_seen\n",
       "0  2016-03-24 11:52:17  2016-03-24 00:00:00  2016-04-07 03:16:57\n",
       "1  2016-03-24 10:58:45  2016-03-24 00:00:00  2016-04-07 01:46:50\n",
       "2  2016-03-14 12:52:21  2016-03-14 00:00:00  2016-04-05 12:47:46\n",
       "3  2016-03-17 16:54:04  2016-03-17 00:00:00  2016-03-17 17:40:17\n",
       "4  2016-03-31 17:25:20  2016-03-31 00:00:00  2016-04-06 10:17:21"
      ]
     },
     "execution_count": 18,
     "metadata": {},
     "output_type": "execute_result"
    }
   ],
   "source": [
    "#closer look at the columns\n",
    "autos[['date_crawled', 'date_created', 'last_seen']][0:5]"
   ]
  },
  {
   "cell_type": "code",
   "execution_count": 19,
   "id": "bd8139a9",
   "metadata": {
    "execution": {
     "iopub.execute_input": "2023-03-20T19:05:07.298480Z",
     "iopub.status.busy": "2023-03-20T19:05:07.298095Z",
     "iopub.status.idle": "2023-03-20T19:05:07.445674Z",
     "shell.execute_reply": "2023-03-20T19:05:07.444657Z"
    },
    "papermill": {
     "duration": 0.167337,
     "end_time": "2023-03-20T19:05:07.447870",
     "exception": false,
     "start_time": "2023-03-20T19:05:07.280533",
     "status": "completed"
    },
    "tags": []
   },
   "outputs": [
    {
     "name": "stdout",
     "output_type": "stream",
     "text": [
      "2016-03-05    0.025559\n",
      "2016-03-06    0.014458\n",
      "2016-03-07    0.035697\n",
      "2016-03-08    0.033453\n",
      "2016-03-09    0.034222\n",
      "2016-03-10    0.032576\n",
      "2016-03-11    0.032746\n",
      "2016-03-12    0.036215\n",
      "2016-03-13    0.015761\n",
      "2016-03-14    0.036253\n",
      "2016-03-15    0.033445\n",
      "2016-03-16    0.030151\n",
      "2016-03-17    0.031656\n",
      "2016-03-18    0.013119\n",
      "2016-03-19    0.035298\n",
      "2016-03-20    0.036342\n",
      "2016-03-21    0.035722\n",
      "2016-03-22    0.032479\n",
      "2016-03-23    0.031974\n",
      "2016-03-24    0.029913\n",
      "2016-03-25    0.032935\n",
      "2016-03-26    0.031966\n",
      "2016-03-27    0.030261\n",
      "2016-03-28    0.035120\n",
      "2016-03-29    0.034179\n",
      "2016-03-30    0.033512\n",
      "2016-03-31    0.031864\n",
      "2016-04-01    0.034106\n",
      "2016-04-02    0.035099\n",
      "2016-04-03    0.038724\n",
      "2016-04-04    0.037605\n",
      "2016-04-05    0.012812\n",
      "2016-04-06    0.003162\n",
      "2016-04-07    0.001616\n",
      "Name: date_crawled, dtype: float64\n"
     ]
    }
   ],
   "source": [
    "#date_crawled \n",
    "print(autos['date_crawled'].str[:10].value_counts(normalize = True, dropna = False).sort_index())\n",
    "\n"
   ]
  },
  {
   "cell_type": "code",
   "execution_count": 20,
   "id": "68c0a9b0",
   "metadata": {
    "execution": {
     "iopub.execute_input": "2023-03-20T19:05:07.482894Z",
     "iopub.status.busy": "2023-03-20T19:05:07.482444Z",
     "iopub.status.idle": "2023-03-20T19:05:07.622013Z",
     "shell.execute_reply": "2023-03-20T19:05:07.620767Z"
    },
    "papermill": {
     "duration": 0.159284,
     "end_time": "2023-03-20T19:05:07.624273",
     "exception": false,
     "start_time": "2023-03-20T19:05:07.464989",
     "status": "completed"
    },
    "tags": []
   },
   "outputs": [
    {
     "name": "stdout",
     "output_type": "stream",
     "text": [
      "2014-03-10    0.000003\n",
      "2015-03-20    0.000003\n",
      "2015-06-11    0.000003\n",
      "2015-06-18    0.000003\n",
      "2015-08-07    0.000003\n",
      "                ...   \n",
      "2016-04-03    0.038881\n",
      "2016-04-04    0.037737\n",
      "2016-04-05    0.011641\n",
      "2016-04-06    0.003154\n",
      "2016-04-07    0.001554\n",
      "Name: date_created, Length: 114, dtype: float64\n"
     ]
    }
   ],
   "source": [
    "#date_created\n",
    "print(autos['date_created'].str[:10].value_counts(normalize = True, dropna = False).sort_index())\n"
   ]
  },
  {
   "cell_type": "code",
   "execution_count": 21,
   "id": "a98b5a9a",
   "metadata": {
    "execution": {
     "iopub.execute_input": "2023-03-20T19:05:07.658417Z",
     "iopub.status.busy": "2023-03-20T19:05:07.658009Z",
     "iopub.status.idle": "2023-03-20T19:05:07.816605Z",
     "shell.execute_reply": "2023-03-20T19:05:07.815586Z"
    },
    "papermill": {
     "duration": 0.178176,
     "end_time": "2023-03-20T19:05:07.818697",
     "exception": false,
     "start_time": "2023-03-20T19:05:07.640521",
     "status": "completed"
    },
    "tags": []
   },
   "outputs": [
    {
     "name": "stdout",
     "output_type": "stream",
     "text": [
      "2016-03-05    0.001292\n",
      "2016-03-06    0.004138\n",
      "2016-03-07    0.005258\n",
      "2016-03-08    0.008058\n",
      "2016-03-09    0.010001\n",
      "2016-03-10    0.011579\n",
      "2016-03-11    0.013047\n",
      "2016-03-12    0.023433\n",
      "2016-03-13    0.008503\n",
      "2016-03-14    0.012302\n",
      "2016-03-15    0.016411\n",
      "2016-03-16    0.016435\n",
      "2016-03-17    0.028780\n",
      "2016-03-18    0.006928\n",
      "2016-03-19    0.016324\n",
      "2016-03-20    0.019921\n",
      "2016-03-21    0.020136\n",
      "2016-03-22    0.020625\n",
      "2016-03-23    0.018164\n",
      "2016-03-24    0.019257\n",
      "2016-03-25    0.019127\n",
      "2016-03-26    0.016165\n",
      "2016-03-27    0.016929\n",
      "2016-03-28    0.022265\n",
      "2016-03-29    0.023331\n",
      "2016-03-30    0.023868\n",
      "2016-03-31    0.024243\n",
      "2016-04-01    0.024037\n",
      "2016-04-02    0.025017\n",
      "2016-04-03    0.025359\n",
      "2016-04-04    0.025664\n",
      "2016-04-05    0.126109\n",
      "2016-04-06    0.217770\n",
      "2016-04-07    0.129522\n",
      "Name: last_seen, dtype: float64\n"
     ]
    }
   ],
   "source": [
    "#last_seen\n",
    "print(autos['last_seen'].str[:10].value_counts(normalize = True, dropna = False).sort_index())\n",
    "\n"
   ]
  },
  {
   "cell_type": "markdown",
   "id": "55a771d4",
   "metadata": {
    "papermill": {
     "duration": 0.015981,
     "end_time": "2023-03-20T19:05:07.851274",
     "exception": false,
     "start_time": "2023-03-20T19:05:07.835293",
     "status": "completed"
    },
    "tags": []
   },
   "source": [
    "The registration_year shows max value as 9999 and min value as 1000 which is inaccurate because the date_created show that the ad was created between 2014 and 2016 and the date_crawled and last_seen show that the current date is 2016, it is therefore unlikely that the year of first registration is before the listing of the used car"
   ]
  },
  {
   "cell_type": "markdown",
   "id": "7bce0ae7",
   "metadata": {
    "papermill": {
     "duration": 0.015888,
     "end_time": "2023-03-20T19:05:07.883246",
     "exception": false,
     "start_time": "2023-03-20T19:05:07.867358",
     "status": "completed"
    },
    "tags": []
   },
   "source": [
    "From the date_created and last_seen we can therefore conclude that the max acceptable year should be 2016 and since its a used car sale the min year should be in the 1900s"
   ]
  },
  {
   "cell_type": "code",
   "execution_count": 22,
   "id": "fe458b4c",
   "metadata": {
    "execution": {
     "iopub.execute_input": "2023-03-20T19:05:07.917697Z",
     "iopub.status.busy": "2023-03-20T19:05:07.917033Z",
     "iopub.status.idle": "2023-03-20T19:05:07.925605Z",
     "shell.execute_reply": "2023-03-20T19:05:07.923913Z"
    },
    "papermill": {
     "duration": 0.030409,
     "end_time": "2023-03-20T19:05:07.929769",
     "exception": false,
     "start_time": "2023-03-20T19:05:07.899360",
     "status": "completed"
    },
    "tags": []
   },
   "outputs": [
    {
     "name": "stdout",
     "output_type": "stream",
     "text": [
      "Total rows data:  370671\n",
      "number of rows between 1900 and 2016:  355936\n"
     ]
    }
   ],
   "source": [
    "#count the number of list within 1900 and 2016\n",
    "print('Total rows data: ', autos.shape[0])\n",
    "print('number of rows between 1900 and 2016: ',autos['registration_year'].between(1900, 2016).sum())\n"
   ]
  },
  {
   "cell_type": "markdown",
   "id": "479fa2a9",
   "metadata": {
    "papermill": {
     "duration": 0.015632,
     "end_time": "2023-03-20T19:05:07.962280",
     "exception": false,
     "start_time": "2023-03-20T19:05:07.946648",
     "status": "completed"
    },
    "tags": []
   },
   "source": [
    "There is over 1,000 decrease in row which is less than 0.3% of the data and can be removed"
   ]
  },
  {
   "cell_type": "code",
   "execution_count": 23,
   "id": "5bea67a4",
   "metadata": {
    "execution": {
     "iopub.execute_input": "2023-03-20T19:05:07.996264Z",
     "iopub.status.busy": "2023-03-20T19:05:07.995819Z",
     "iopub.status.idle": "2023-03-20T19:05:08.081784Z",
     "shell.execute_reply": "2023-03-20T19:05:08.080355Z"
    },
    "papermill": {
     "duration": 0.105615,
     "end_time": "2023-03-20T19:05:08.084264",
     "exception": false,
     "start_time": "2023-03-20T19:05:07.978649",
     "status": "completed"
    },
    "scrolled": true,
    "tags": []
   },
   "outputs": [
    {
     "data": {
      "text/html": [
       "<div>\n",
       "<style scoped>\n",
       "    .dataframe tbody tr th:only-of-type {\n",
       "        vertical-align: middle;\n",
       "    }\n",
       "\n",
       "    .dataframe tbody tr th {\n",
       "        vertical-align: top;\n",
       "    }\n",
       "\n",
       "    .dataframe thead th {\n",
       "        text-align: right;\n",
       "    }\n",
       "</style>\n",
       "<table border=\"1\" class=\"dataframe\">\n",
       "  <thead>\n",
       "    <tr style=\"text-align: right;\">\n",
       "      <th></th>\n",
       "      <th>date_crawled</th>\n",
       "      <th>name</th>\n",
       "      <th>seller</th>\n",
       "      <th>offer_type</th>\n",
       "      <th>price</th>\n",
       "      <th>ab_test</th>\n",
       "      <th>vehicle_type</th>\n",
       "      <th>registration_year</th>\n",
       "      <th>gearbox</th>\n",
       "      <th>power_PS</th>\n",
       "      <th>model</th>\n",
       "      <th>registration_month</th>\n",
       "      <th>fuel_type</th>\n",
       "      <th>brand</th>\n",
       "      <th>not_repaired_damage</th>\n",
       "      <th>date_created</th>\n",
       "      <th>postal_code</th>\n",
       "      <th>last_seen</th>\n",
       "      <th>odometer_km</th>\n",
       "    </tr>\n",
       "  </thead>\n",
       "  <tbody>\n",
       "    <tr>\n",
       "      <th>0</th>\n",
       "      <td>2016-03-24 11:52:17</td>\n",
       "      <td>Golf_3_1.6</td>\n",
       "      <td>privat</td>\n",
       "      <td>Angebot</td>\n",
       "      <td>480</td>\n",
       "      <td>test</td>\n",
       "      <td>NaN</td>\n",
       "      <td>1993</td>\n",
       "      <td>manuell</td>\n",
       "      <td>0</td>\n",
       "      <td>golf</td>\n",
       "      <td>0</td>\n",
       "      <td>benzin</td>\n",
       "      <td>volkswagen</td>\n",
       "      <td>NaN</td>\n",
       "      <td>2016-03-24 00:00:00</td>\n",
       "      <td>70435</td>\n",
       "      <td>2016-04-07 03:16:57</td>\n",
       "      <td>150000</td>\n",
       "    </tr>\n",
       "    <tr>\n",
       "      <th>1</th>\n",
       "      <td>2016-03-24 10:58:45</td>\n",
       "      <td>A5_Sportback_2.7_Tdi</td>\n",
       "      <td>privat</td>\n",
       "      <td>Angebot</td>\n",
       "      <td>18300</td>\n",
       "      <td>test</td>\n",
       "      <td>coupe</td>\n",
       "      <td>2011</td>\n",
       "      <td>manuell</td>\n",
       "      <td>190</td>\n",
       "      <td>NaN</td>\n",
       "      <td>5</td>\n",
       "      <td>diesel</td>\n",
       "      <td>audi</td>\n",
       "      <td>ja</td>\n",
       "      <td>2016-03-24 00:00:00</td>\n",
       "      <td>66954</td>\n",
       "      <td>2016-04-07 01:46:50</td>\n",
       "      <td>125000</td>\n",
       "    </tr>\n",
       "    <tr>\n",
       "      <th>2</th>\n",
       "      <td>2016-03-14 12:52:21</td>\n",
       "      <td>Jeep_Grand_Cherokee_\"Overland\"</td>\n",
       "      <td>privat</td>\n",
       "      <td>Angebot</td>\n",
       "      <td>9800</td>\n",
       "      <td>test</td>\n",
       "      <td>suv</td>\n",
       "      <td>2004</td>\n",
       "      <td>automatik</td>\n",
       "      <td>163</td>\n",
       "      <td>grand</td>\n",
       "      <td>8</td>\n",
       "      <td>diesel</td>\n",
       "      <td>jeep</td>\n",
       "      <td>NaN</td>\n",
       "      <td>2016-03-14 00:00:00</td>\n",
       "      <td>90480</td>\n",
       "      <td>2016-04-05 12:47:46</td>\n",
       "      <td>125000</td>\n",
       "    </tr>\n",
       "    <tr>\n",
       "      <th>3</th>\n",
       "      <td>2016-03-17 16:54:04</td>\n",
       "      <td>GOLF_4_1_4__3TÜRER</td>\n",
       "      <td>privat</td>\n",
       "      <td>Angebot</td>\n",
       "      <td>1500</td>\n",
       "      <td>test</td>\n",
       "      <td>kleinwagen</td>\n",
       "      <td>2001</td>\n",
       "      <td>manuell</td>\n",
       "      <td>75</td>\n",
       "      <td>golf</td>\n",
       "      <td>6</td>\n",
       "      <td>benzin</td>\n",
       "      <td>volkswagen</td>\n",
       "      <td>nein</td>\n",
       "      <td>2016-03-17 00:00:00</td>\n",
       "      <td>91074</td>\n",
       "      <td>2016-03-17 17:40:17</td>\n",
       "      <td>150000</td>\n",
       "    </tr>\n",
       "    <tr>\n",
       "      <th>4</th>\n",
       "      <td>2016-03-31 17:25:20</td>\n",
       "      <td>Skoda_Fabia_1.4_TDI_PD_Classic</td>\n",
       "      <td>privat</td>\n",
       "      <td>Angebot</td>\n",
       "      <td>3600</td>\n",
       "      <td>test</td>\n",
       "      <td>kleinwagen</td>\n",
       "      <td>2008</td>\n",
       "      <td>manuell</td>\n",
       "      <td>69</td>\n",
       "      <td>fabia</td>\n",
       "      <td>7</td>\n",
       "      <td>diesel</td>\n",
       "      <td>skoda</td>\n",
       "      <td>nein</td>\n",
       "      <td>2016-03-31 00:00:00</td>\n",
       "      <td>60437</td>\n",
       "      <td>2016-04-06 10:17:21</td>\n",
       "      <td>90000</td>\n",
       "    </tr>\n",
       "  </tbody>\n",
       "</table>\n",
       "</div>"
      ],
      "text/plain": [
       "          date_crawled                            name  seller offer_type  \\\n",
       "0  2016-03-24 11:52:17                      Golf_3_1.6  privat    Angebot   \n",
       "1  2016-03-24 10:58:45            A5_Sportback_2.7_Tdi  privat    Angebot   \n",
       "2  2016-03-14 12:52:21  Jeep_Grand_Cherokee_\"Overland\"  privat    Angebot   \n",
       "3  2016-03-17 16:54:04              GOLF_4_1_4__3TÜRER  privat    Angebot   \n",
       "4  2016-03-31 17:25:20  Skoda_Fabia_1.4_TDI_PD_Classic  privat    Angebot   \n",
       "\n",
       "   price ab_test vehicle_type  registration_year    gearbox  power_PS  model  \\\n",
       "0    480    test          NaN               1993    manuell         0   golf   \n",
       "1  18300    test        coupe               2011    manuell       190    NaN   \n",
       "2   9800    test          suv               2004  automatik       163  grand   \n",
       "3   1500    test   kleinwagen               2001    manuell        75   golf   \n",
       "4   3600    test   kleinwagen               2008    manuell        69  fabia   \n",
       "\n",
       "   registration_month fuel_type       brand not_repaired_damage  \\\n",
       "0                   0    benzin  volkswagen                 NaN   \n",
       "1                   5    diesel        audi                  ja   \n",
       "2                   8    diesel        jeep                 NaN   \n",
       "3                   6    benzin  volkswagen                nein   \n",
       "4                   7    diesel       skoda                nein   \n",
       "\n",
       "          date_created  postal_code            last_seen  odometer_km  \n",
       "0  2016-03-24 00:00:00        70435  2016-04-07 03:16:57       150000  \n",
       "1  2016-03-24 00:00:00        66954  2016-04-07 01:46:50       125000  \n",
       "2  2016-03-14 00:00:00        90480  2016-04-05 12:47:46       125000  \n",
       "3  2016-03-17 00:00:00        91074  2016-03-17 17:40:17       150000  \n",
       "4  2016-03-31 00:00:00        60437  2016-04-06 10:17:21        90000  "
      ]
     },
     "execution_count": 23,
     "metadata": {},
     "output_type": "execute_result"
    }
   ],
   "source": [
    "# drop rows that fall outside 1900 and 2016\n",
    "autos = autos[autos['registration_year'].between(1900, 2016)]\n",
    "autos.head()"
   ]
  },
  {
   "cell_type": "markdown",
   "id": "b73f04b8",
   "metadata": {
    "papermill": {
     "duration": 0.016128,
     "end_time": "2023-03-20T19:05:08.117277",
     "exception": false,
     "start_time": "2023-03-20T19:05:08.101149",
     "status": "completed"
    },
    "tags": []
   },
   "source": [
    "## 6. Convert dates to date type\n"
   ]
  },
  {
   "cell_type": "code",
   "execution_count": 24,
   "id": "d1fee7b0",
   "metadata": {
    "execution": {
     "iopub.execute_input": "2023-03-20T19:05:08.151693Z",
     "iopub.status.busy": "2023-03-20T19:05:08.151318Z",
     "iopub.status.idle": "2023-03-20T19:05:08.520904Z",
     "shell.execute_reply": "2023-03-20T19:05:08.519668Z"
    },
    "papermill": {
     "duration": 0.390327,
     "end_time": "2023-03-20T19:05:08.523680",
     "exception": false,
     "start_time": "2023-03-20T19:05:08.133353",
     "status": "completed"
    },
    "tags": []
   },
   "outputs": [],
   "source": [
    "# change date_crawled, date_created, last_seen to date\n",
    "\n",
    "autos['date_crawled'] = pd.to_datetime(autos['date_crawled']).dt.date\n",
    "autos['date_created'] = pd.to_datetime(autos['date_created']).dt.date\n",
    "autos['last_seen'] = pd.to_datetime(autos['last_seen']).dt.date\n",
    "\n",
    "\n"
   ]
  },
  {
   "cell_type": "code",
   "execution_count": 25,
   "id": "5125a026",
   "metadata": {
    "execution": {
     "iopub.execute_input": "2023-03-20T19:05:08.560638Z",
     "iopub.status.busy": "2023-03-20T19:05:08.560257Z",
     "iopub.status.idle": "2023-03-20T19:05:08.602237Z",
     "shell.execute_reply": "2023-03-20T19:05:08.601190Z"
    },
    "papermill": {
     "duration": 0.062915,
     "end_time": "2023-03-20T19:05:08.604372",
     "exception": false,
     "start_time": "2023-03-20T19:05:08.541457",
     "status": "completed"
    },
    "scrolled": true,
    "tags": []
   },
   "outputs": [
    {
     "data": {
      "text/html": [
       "<div>\n",
       "<style scoped>\n",
       "    .dataframe tbody tr th:only-of-type {\n",
       "        vertical-align: middle;\n",
       "    }\n",
       "\n",
       "    .dataframe tbody tr th {\n",
       "        vertical-align: top;\n",
       "    }\n",
       "\n",
       "    .dataframe thead th {\n",
       "        text-align: right;\n",
       "    }\n",
       "</style>\n",
       "<table border=\"1\" class=\"dataframe\">\n",
       "  <thead>\n",
       "    <tr style=\"text-align: right;\">\n",
       "      <th></th>\n",
       "      <th>date_crawled</th>\n",
       "      <th>name</th>\n",
       "      <th>seller</th>\n",
       "      <th>offer_type</th>\n",
       "      <th>price</th>\n",
       "      <th>ab_test</th>\n",
       "      <th>vehicle_type</th>\n",
       "      <th>registration_year</th>\n",
       "      <th>gearbox</th>\n",
       "      <th>power_PS</th>\n",
       "      <th>model</th>\n",
       "      <th>registration_month</th>\n",
       "      <th>fuel_type</th>\n",
       "      <th>brand</th>\n",
       "      <th>not_repaired_damage</th>\n",
       "      <th>date_created</th>\n",
       "      <th>postal_code</th>\n",
       "      <th>last_seen</th>\n",
       "      <th>odometer_km</th>\n",
       "    </tr>\n",
       "  </thead>\n",
       "  <tbody>\n",
       "    <tr>\n",
       "      <th>0</th>\n",
       "      <td>2016-03-24</td>\n",
       "      <td>Golf_3_1.6</td>\n",
       "      <td>privat</td>\n",
       "      <td>Angebot</td>\n",
       "      <td>480</td>\n",
       "      <td>test</td>\n",
       "      <td>NaN</td>\n",
       "      <td>1993</td>\n",
       "      <td>manuell</td>\n",
       "      <td>0</td>\n",
       "      <td>golf</td>\n",
       "      <td>0</td>\n",
       "      <td>benzin</td>\n",
       "      <td>volkswagen</td>\n",
       "      <td>NaN</td>\n",
       "      <td>2016-03-24</td>\n",
       "      <td>70435</td>\n",
       "      <td>2016-04-07</td>\n",
       "      <td>150000</td>\n",
       "    </tr>\n",
       "    <tr>\n",
       "      <th>1</th>\n",
       "      <td>2016-03-24</td>\n",
       "      <td>A5_Sportback_2.7_Tdi</td>\n",
       "      <td>privat</td>\n",
       "      <td>Angebot</td>\n",
       "      <td>18300</td>\n",
       "      <td>test</td>\n",
       "      <td>coupe</td>\n",
       "      <td>2011</td>\n",
       "      <td>manuell</td>\n",
       "      <td>190</td>\n",
       "      <td>NaN</td>\n",
       "      <td>5</td>\n",
       "      <td>diesel</td>\n",
       "      <td>audi</td>\n",
       "      <td>ja</td>\n",
       "      <td>2016-03-24</td>\n",
       "      <td>66954</td>\n",
       "      <td>2016-04-07</td>\n",
       "      <td>125000</td>\n",
       "    </tr>\n",
       "    <tr>\n",
       "      <th>2</th>\n",
       "      <td>2016-03-14</td>\n",
       "      <td>Jeep_Grand_Cherokee_\"Overland\"</td>\n",
       "      <td>privat</td>\n",
       "      <td>Angebot</td>\n",
       "      <td>9800</td>\n",
       "      <td>test</td>\n",
       "      <td>suv</td>\n",
       "      <td>2004</td>\n",
       "      <td>automatik</td>\n",
       "      <td>163</td>\n",
       "      <td>grand</td>\n",
       "      <td>8</td>\n",
       "      <td>diesel</td>\n",
       "      <td>jeep</td>\n",
       "      <td>NaN</td>\n",
       "      <td>2016-03-14</td>\n",
       "      <td>90480</td>\n",
       "      <td>2016-04-05</td>\n",
       "      <td>125000</td>\n",
       "    </tr>\n",
       "    <tr>\n",
       "      <th>3</th>\n",
       "      <td>2016-03-17</td>\n",
       "      <td>GOLF_4_1_4__3TÜRER</td>\n",
       "      <td>privat</td>\n",
       "      <td>Angebot</td>\n",
       "      <td>1500</td>\n",
       "      <td>test</td>\n",
       "      <td>kleinwagen</td>\n",
       "      <td>2001</td>\n",
       "      <td>manuell</td>\n",
       "      <td>75</td>\n",
       "      <td>golf</td>\n",
       "      <td>6</td>\n",
       "      <td>benzin</td>\n",
       "      <td>volkswagen</td>\n",
       "      <td>nein</td>\n",
       "      <td>2016-03-17</td>\n",
       "      <td>91074</td>\n",
       "      <td>2016-03-17</td>\n",
       "      <td>150000</td>\n",
       "    </tr>\n",
       "    <tr>\n",
       "      <th>4</th>\n",
       "      <td>2016-03-31</td>\n",
       "      <td>Skoda_Fabia_1.4_TDI_PD_Classic</td>\n",
       "      <td>privat</td>\n",
       "      <td>Angebot</td>\n",
       "      <td>3600</td>\n",
       "      <td>test</td>\n",
       "      <td>kleinwagen</td>\n",
       "      <td>2008</td>\n",
       "      <td>manuell</td>\n",
       "      <td>69</td>\n",
       "      <td>fabia</td>\n",
       "      <td>7</td>\n",
       "      <td>diesel</td>\n",
       "      <td>skoda</td>\n",
       "      <td>nein</td>\n",
       "      <td>2016-03-31</td>\n",
       "      <td>60437</td>\n",
       "      <td>2016-04-06</td>\n",
       "      <td>90000</td>\n",
       "    </tr>\n",
       "  </tbody>\n",
       "</table>\n",
       "</div>"
      ],
      "text/plain": [
       "  date_crawled                            name  seller offer_type  price  \\\n",
       "0   2016-03-24                      Golf_3_1.6  privat    Angebot    480   \n",
       "1   2016-03-24            A5_Sportback_2.7_Tdi  privat    Angebot  18300   \n",
       "2   2016-03-14  Jeep_Grand_Cherokee_\"Overland\"  privat    Angebot   9800   \n",
       "3   2016-03-17              GOLF_4_1_4__3TÜRER  privat    Angebot   1500   \n",
       "4   2016-03-31  Skoda_Fabia_1.4_TDI_PD_Classic  privat    Angebot   3600   \n",
       "\n",
       "  ab_test vehicle_type  registration_year    gearbox  power_PS  model  \\\n",
       "0    test          NaN               1993    manuell         0   golf   \n",
       "1    test        coupe               2011    manuell       190    NaN   \n",
       "2    test          suv               2004  automatik       163  grand   \n",
       "3    test   kleinwagen               2001    manuell        75   golf   \n",
       "4    test   kleinwagen               2008    manuell        69  fabia   \n",
       "\n",
       "   registration_month fuel_type       brand not_repaired_damage date_created  \\\n",
       "0                   0    benzin  volkswagen                 NaN   2016-03-24   \n",
       "1                   5    diesel        audi                  ja   2016-03-24   \n",
       "2                   8    diesel        jeep                 NaN   2016-03-14   \n",
       "3                   6    benzin  volkswagen                nein   2016-03-17   \n",
       "4                   7    diesel       skoda                nein   2016-03-31   \n",
       "\n",
       "   postal_code   last_seen  odometer_km  \n",
       "0        70435  2016-04-07       150000  \n",
       "1        66954  2016-04-07       125000  \n",
       "2        90480  2016-04-05       125000  \n",
       "3        91074  2016-03-17       150000  \n",
       "4        60437  2016-04-06        90000  "
      ]
     },
     "execution_count": 25,
     "metadata": {},
     "output_type": "execute_result"
    }
   ],
   "source": [
    "autos.head()"
   ]
  },
  {
   "cell_type": "markdown",
   "id": "1e3cfe6b",
   "metadata": {
    "papermill": {
     "duration": 0.017364,
     "end_time": "2023-03-20T19:05:08.640038",
     "exception": false,
     "start_time": "2023-03-20T19:05:08.622674",
     "status": "completed"
    },
    "tags": []
   },
   "source": [
    "## 7. Replace underscore with space in name column"
   ]
  },
  {
   "cell_type": "code",
   "execution_count": 26,
   "id": "976866d7",
   "metadata": {
    "execution": {
     "iopub.execute_input": "2023-03-20T19:05:08.675299Z",
     "iopub.status.busy": "2023-03-20T19:05:08.674942Z",
     "iopub.status.idle": "2023-03-20T19:05:08.909234Z",
     "shell.execute_reply": "2023-03-20T19:05:08.908420Z"
    },
    "papermill": {
     "duration": 0.254085,
     "end_time": "2023-03-20T19:05:08.911029",
     "exception": false,
     "start_time": "2023-03-20T19:05:08.656944",
     "status": "completed"
    },
    "tags": []
   },
   "outputs": [
    {
     "data": {
      "text/html": [
       "<div>\n",
       "<style scoped>\n",
       "    .dataframe tbody tr th:only-of-type {\n",
       "        vertical-align: middle;\n",
       "    }\n",
       "\n",
       "    .dataframe tbody tr th {\n",
       "        vertical-align: top;\n",
       "    }\n",
       "\n",
       "    .dataframe thead th {\n",
       "        text-align: right;\n",
       "    }\n",
       "</style>\n",
       "<table border=\"1\" class=\"dataframe\">\n",
       "  <thead>\n",
       "    <tr style=\"text-align: right;\">\n",
       "      <th></th>\n",
       "      <th>date_crawled</th>\n",
       "      <th>name</th>\n",
       "      <th>seller</th>\n",
       "      <th>offer_type</th>\n",
       "      <th>price</th>\n",
       "      <th>ab_test</th>\n",
       "      <th>vehicle_type</th>\n",
       "      <th>registration_year</th>\n",
       "      <th>gearbox</th>\n",
       "      <th>power_PS</th>\n",
       "      <th>model</th>\n",
       "      <th>registration_month</th>\n",
       "      <th>fuel_type</th>\n",
       "      <th>brand</th>\n",
       "      <th>not_repaired_damage</th>\n",
       "      <th>date_created</th>\n",
       "      <th>postal_code</th>\n",
       "      <th>last_seen</th>\n",
       "      <th>odometer_km</th>\n",
       "    </tr>\n",
       "  </thead>\n",
       "  <tbody>\n",
       "    <tr>\n",
       "      <th>0</th>\n",
       "      <td>2016-03-24</td>\n",
       "      <td>Golf 3 1.6</td>\n",
       "      <td>privat</td>\n",
       "      <td>Angebot</td>\n",
       "      <td>480</td>\n",
       "      <td>test</td>\n",
       "      <td>NaN</td>\n",
       "      <td>1993</td>\n",
       "      <td>manuell</td>\n",
       "      <td>0</td>\n",
       "      <td>golf</td>\n",
       "      <td>0</td>\n",
       "      <td>benzin</td>\n",
       "      <td>volkswagen</td>\n",
       "      <td>NaN</td>\n",
       "      <td>2016-03-24</td>\n",
       "      <td>70435</td>\n",
       "      <td>2016-04-07</td>\n",
       "      <td>150000</td>\n",
       "    </tr>\n",
       "    <tr>\n",
       "      <th>1</th>\n",
       "      <td>2016-03-24</td>\n",
       "      <td>A5 Sportback 2.7 Tdi</td>\n",
       "      <td>privat</td>\n",
       "      <td>Angebot</td>\n",
       "      <td>18300</td>\n",
       "      <td>test</td>\n",
       "      <td>coupe</td>\n",
       "      <td>2011</td>\n",
       "      <td>manuell</td>\n",
       "      <td>190</td>\n",
       "      <td>NaN</td>\n",
       "      <td>5</td>\n",
       "      <td>diesel</td>\n",
       "      <td>audi</td>\n",
       "      <td>ja</td>\n",
       "      <td>2016-03-24</td>\n",
       "      <td>66954</td>\n",
       "      <td>2016-04-07</td>\n",
       "      <td>125000</td>\n",
       "    </tr>\n",
       "    <tr>\n",
       "      <th>2</th>\n",
       "      <td>2016-03-14</td>\n",
       "      <td>Jeep Grand Cherokee \"Overland\"</td>\n",
       "      <td>privat</td>\n",
       "      <td>Angebot</td>\n",
       "      <td>9800</td>\n",
       "      <td>test</td>\n",
       "      <td>suv</td>\n",
       "      <td>2004</td>\n",
       "      <td>automatik</td>\n",
       "      <td>163</td>\n",
       "      <td>grand</td>\n",
       "      <td>8</td>\n",
       "      <td>diesel</td>\n",
       "      <td>jeep</td>\n",
       "      <td>NaN</td>\n",
       "      <td>2016-03-14</td>\n",
       "      <td>90480</td>\n",
       "      <td>2016-04-05</td>\n",
       "      <td>125000</td>\n",
       "    </tr>\n",
       "    <tr>\n",
       "      <th>3</th>\n",
       "      <td>2016-03-17</td>\n",
       "      <td>GOLF 4 1 4  3TÜRER</td>\n",
       "      <td>privat</td>\n",
       "      <td>Angebot</td>\n",
       "      <td>1500</td>\n",
       "      <td>test</td>\n",
       "      <td>kleinwagen</td>\n",
       "      <td>2001</td>\n",
       "      <td>manuell</td>\n",
       "      <td>75</td>\n",
       "      <td>golf</td>\n",
       "      <td>6</td>\n",
       "      <td>benzin</td>\n",
       "      <td>volkswagen</td>\n",
       "      <td>nein</td>\n",
       "      <td>2016-03-17</td>\n",
       "      <td>91074</td>\n",
       "      <td>2016-03-17</td>\n",
       "      <td>150000</td>\n",
       "    </tr>\n",
       "    <tr>\n",
       "      <th>4</th>\n",
       "      <td>2016-03-31</td>\n",
       "      <td>Skoda Fabia 1.4 TDI PD Classic</td>\n",
       "      <td>privat</td>\n",
       "      <td>Angebot</td>\n",
       "      <td>3600</td>\n",
       "      <td>test</td>\n",
       "      <td>kleinwagen</td>\n",
       "      <td>2008</td>\n",
       "      <td>manuell</td>\n",
       "      <td>69</td>\n",
       "      <td>fabia</td>\n",
       "      <td>7</td>\n",
       "      <td>diesel</td>\n",
       "      <td>skoda</td>\n",
       "      <td>nein</td>\n",
       "      <td>2016-03-31</td>\n",
       "      <td>60437</td>\n",
       "      <td>2016-04-06</td>\n",
       "      <td>90000</td>\n",
       "    </tr>\n",
       "  </tbody>\n",
       "</table>\n",
       "</div>"
      ],
      "text/plain": [
       "  date_crawled                            name  seller offer_type  price  \\\n",
       "0   2016-03-24                      Golf 3 1.6  privat    Angebot    480   \n",
       "1   2016-03-24            A5 Sportback 2.7 Tdi  privat    Angebot  18300   \n",
       "2   2016-03-14  Jeep Grand Cherokee \"Overland\"  privat    Angebot   9800   \n",
       "3   2016-03-17              GOLF 4 1 4  3TÜRER  privat    Angebot   1500   \n",
       "4   2016-03-31  Skoda Fabia 1.4 TDI PD Classic  privat    Angebot   3600   \n",
       "\n",
       "  ab_test vehicle_type  registration_year    gearbox  power_PS  model  \\\n",
       "0    test          NaN               1993    manuell         0   golf   \n",
       "1    test        coupe               2011    manuell       190    NaN   \n",
       "2    test          suv               2004  automatik       163  grand   \n",
       "3    test   kleinwagen               2001    manuell        75   golf   \n",
       "4    test   kleinwagen               2008    manuell        69  fabia   \n",
       "\n",
       "   registration_month fuel_type       brand not_repaired_damage date_created  \\\n",
       "0                   0    benzin  volkswagen                 NaN   2016-03-24   \n",
       "1                   5    diesel        audi                  ja   2016-03-24   \n",
       "2                   8    diesel        jeep                 NaN   2016-03-14   \n",
       "3                   6    benzin  volkswagen                nein   2016-03-17   \n",
       "4                   7    diesel       skoda                nein   2016-03-31   \n",
       "\n",
       "   postal_code   last_seen  odometer_km  \n",
       "0        70435  2016-04-07       150000  \n",
       "1        66954  2016-04-07       125000  \n",
       "2        90480  2016-04-05       125000  \n",
       "3        91074  2016-03-17       150000  \n",
       "4        60437  2016-04-06        90000  "
      ]
     },
     "execution_count": 26,
     "metadata": {},
     "output_type": "execute_result"
    }
   ],
   "source": [
    "autos['name'] = autos['name'].str.replace('_', ' ')\n",
    "autos.head()"
   ]
  },
  {
   "cell_type": "markdown",
   "id": "d059f4e0",
   "metadata": {
    "papermill": {
     "duration": 0.016912,
     "end_time": "2023-03-20T19:05:08.945172",
     "exception": false,
     "start_time": "2023-03-20T19:05:08.928260",
     "status": "completed"
    },
    "tags": []
   },
   "source": [
    "## 8.  Standardization of language\n",
    "The following columns require a change from German to English:\n",
    "* seller\n",
    "* offer_type\n",
    "* gearbox\n",
    "* not_repaired_damage\n",
    "* vehicle_type. \n"
   ]
  },
  {
   "cell_type": "code",
   "execution_count": 27,
   "id": "8aa6d703",
   "metadata": {
    "execution": {
     "iopub.execute_input": "2023-03-20T19:05:08.982349Z",
     "iopub.status.busy": "2023-03-20T19:05:08.981583Z",
     "iopub.status.idle": "2023-03-20T19:05:09.009786Z",
     "shell.execute_reply": "2023-03-20T19:05:09.008593Z"
    },
    "papermill": {
     "duration": 0.049449,
     "end_time": "2023-03-20T19:05:09.012472",
     "exception": false,
     "start_time": "2023-03-20T19:05:08.963023",
     "status": "completed"
    },
    "tags": []
   },
   "outputs": [
    {
     "data": {
      "text/plain": [
       "array(['privat', 'gewerblich'], dtype=object)"
      ]
     },
     "execution_count": 27,
     "metadata": {},
     "output_type": "execute_result"
    }
   ],
   "source": [
    "#Identify unique values in the seller column\n",
    "autos['seller'].unique()"
   ]
  },
  {
   "cell_type": "code",
   "execution_count": 28,
   "id": "bb8198eb",
   "metadata": {
    "execution": {
     "iopub.execute_input": "2023-03-20T19:05:09.049237Z",
     "iopub.status.busy": "2023-03-20T19:05:09.048448Z",
     "iopub.status.idle": "2023-03-20T19:05:09.106288Z",
     "shell.execute_reply": "2023-03-20T19:05:09.105162Z"
    },
    "papermill": {
     "duration": 0.078583,
     "end_time": "2023-03-20T19:05:09.108669",
     "exception": false,
     "start_time": "2023-03-20T19:05:09.030086",
     "status": "completed"
    },
    "tags": []
   },
   "outputs": [],
   "source": [
    "# replace values\n",
    "autos['seller'].mask(autos['seller'] == 'privat', 'private', inplace = True)\n",
    "autos['seller'].mask(autos['seller'] == 'gewerblich', 'commercial', inplace = True)\n"
   ]
  },
  {
   "cell_type": "code",
   "execution_count": 29,
   "id": "729259e2",
   "metadata": {
    "execution": {
     "iopub.execute_input": "2023-03-20T19:05:09.144165Z",
     "iopub.status.busy": "2023-03-20T19:05:09.143786Z",
     "iopub.status.idle": "2023-03-20T19:05:09.173090Z",
     "shell.execute_reply": "2023-03-20T19:05:09.171891Z"
    },
    "papermill": {
     "duration": 0.049714,
     "end_time": "2023-03-20T19:05:09.175404",
     "exception": false,
     "start_time": "2023-03-20T19:05:09.125690",
     "status": "completed"
    },
    "tags": []
   },
   "outputs": [
    {
     "data": {
      "text/plain": [
       "array(['Angebot', 'Gesuch'], dtype=object)"
      ]
     },
     "execution_count": 29,
     "metadata": {},
     "output_type": "execute_result"
    }
   ],
   "source": [
    "#Identify unique values in the offer_type column\n",
    "autos['offer_type'].unique()"
   ]
  },
  {
   "cell_type": "code",
   "execution_count": 30,
   "id": "93a9d11b",
   "metadata": {
    "execution": {
     "iopub.execute_input": "2023-03-20T19:05:09.210809Z",
     "iopub.status.busy": "2023-03-20T19:05:09.210477Z",
     "iopub.status.idle": "2023-03-20T19:05:09.268073Z",
     "shell.execute_reply": "2023-03-20T19:05:09.266823Z"
    },
    "papermill": {
     "duration": 0.078189,
     "end_time": "2023-03-20T19:05:09.270472",
     "exception": false,
     "start_time": "2023-03-20T19:05:09.192283",
     "status": "completed"
    },
    "tags": []
   },
   "outputs": [],
   "source": [
    "# replace values\n",
    "autos['offer_type'].mask(autos['offer_type'] == 'Angebot', 'offer', inplace = True)\n",
    "autos['offer_type'].mask(autos['offer_type'] == 'Gesuch', 'request', inplace = True)\n"
   ]
  },
  {
   "cell_type": "code",
   "execution_count": 31,
   "id": "aec065b8",
   "metadata": {
    "execution": {
     "iopub.execute_input": "2023-03-20T19:05:09.306257Z",
     "iopub.status.busy": "2023-03-20T19:05:09.305916Z",
     "iopub.status.idle": "2023-03-20T19:05:09.331266Z",
     "shell.execute_reply": "2023-03-20T19:05:09.329687Z"
    },
    "papermill": {
     "duration": 0.045798,
     "end_time": "2023-03-20T19:05:09.333356",
     "exception": false,
     "start_time": "2023-03-20T19:05:09.287558",
     "status": "completed"
    },
    "tags": []
   },
   "outputs": [
    {
     "data": {
      "text/plain": [
       "array(['manuell', 'automatik', nan], dtype=object)"
      ]
     },
     "execution_count": 31,
     "metadata": {},
     "output_type": "execute_result"
    }
   ],
   "source": [
    "#Identify unique values in the gearbox column\n",
    "autos['gearbox'].unique()"
   ]
  },
  {
   "cell_type": "code",
   "execution_count": 32,
   "id": "75623016",
   "metadata": {
    "execution": {
     "iopub.execute_input": "2023-03-20T19:05:09.369334Z",
     "iopub.status.busy": "2023-03-20T19:05:09.368965Z",
     "iopub.status.idle": "2023-03-20T19:05:09.428233Z",
     "shell.execute_reply": "2023-03-20T19:05:09.427192Z"
    },
    "papermill": {
     "duration": 0.079961,
     "end_time": "2023-03-20T19:05:09.430530",
     "exception": false,
     "start_time": "2023-03-20T19:05:09.350569",
     "status": "completed"
    },
    "tags": []
   },
   "outputs": [],
   "source": [
    "# replace values\n",
    "autos['gearbox'].mask(autos['gearbox'] == 'manuell', 'manual', inplace = True)\n",
    "autos['gearbox'].mask(autos['gearbox'] == 'automatik', 'automatic', inplace = True)\n"
   ]
  },
  {
   "cell_type": "code",
   "execution_count": 33,
   "id": "97012349",
   "metadata": {
    "execution": {
     "iopub.execute_input": "2023-03-20T19:05:09.467001Z",
     "iopub.status.busy": "2023-03-20T19:05:09.466518Z",
     "iopub.status.idle": "2023-03-20T19:05:09.493125Z",
     "shell.execute_reply": "2023-03-20T19:05:09.491398Z"
    },
    "papermill": {
     "duration": 0.048193,
     "end_time": "2023-03-20T19:05:09.496032",
     "exception": false,
     "start_time": "2023-03-20T19:05:09.447839",
     "status": "completed"
    },
    "tags": []
   },
   "outputs": [
    {
     "data": {
      "text/plain": [
       "array([nan, 'ja', 'nein'], dtype=object)"
      ]
     },
     "execution_count": 33,
     "metadata": {},
     "output_type": "execute_result"
    }
   ],
   "source": [
    "#Identify unique values in the not_repaired_damage column\n",
    "autos['not_repaired_damage'].unique()"
   ]
  },
  {
   "cell_type": "code",
   "execution_count": 34,
   "id": "ab4e6a1e",
   "metadata": {
    "execution": {
     "iopub.execute_input": "2023-03-20T19:05:09.533580Z",
     "iopub.status.busy": "2023-03-20T19:05:09.532819Z",
     "iopub.status.idle": "2023-03-20T19:05:09.589699Z",
     "shell.execute_reply": "2023-03-20T19:05:09.588391Z"
    },
    "papermill": {
     "duration": 0.078582,
     "end_time": "2023-03-20T19:05:09.592414",
     "exception": false,
     "start_time": "2023-03-20T19:05:09.513832",
     "status": "completed"
    },
    "tags": []
   },
   "outputs": [],
   "source": [
    "# replace values\n",
    "autos['not_repaired_damage'].mask(autos['not_repaired_damage'] == 'nein', 'no', inplace = True)\n",
    "autos['not_repaired_damage'].mask(autos['not_repaired_damage'] == 'ja', 'yes', inplace = True)\n"
   ]
  },
  {
   "cell_type": "code",
   "execution_count": 35,
   "id": "4cda7449",
   "metadata": {
    "execution": {
     "iopub.execute_input": "2023-03-20T19:05:09.630629Z",
     "iopub.status.busy": "2023-03-20T19:05:09.630260Z",
     "iopub.status.idle": "2023-03-20T19:05:09.655691Z",
     "shell.execute_reply": "2023-03-20T19:05:09.654477Z"
    },
    "papermill": {
     "duration": 0.047013,
     "end_time": "2023-03-20T19:05:09.658225",
     "exception": false,
     "start_time": "2023-03-20T19:05:09.611212",
     "status": "completed"
    },
    "tags": []
   },
   "outputs": [
    {
     "data": {
      "text/plain": [
       "array(['benzin', 'diesel', nan, 'lpg', 'andere', 'hybrid', 'cng',\n",
       "       'elektro'], dtype=object)"
      ]
     },
     "execution_count": 35,
     "metadata": {},
     "output_type": "execute_result"
    }
   ],
   "source": [
    "#Identify unique values in the fuel_type column\n",
    "autos['fuel_type'].unique()"
   ]
  },
  {
   "cell_type": "code",
   "execution_count": 36,
   "id": "9ee540ad",
   "metadata": {
    "execution": {
     "iopub.execute_input": "2023-03-20T19:05:09.698598Z",
     "iopub.status.busy": "2023-03-20T19:05:09.698229Z",
     "iopub.status.idle": "2023-03-20T19:05:09.779357Z",
     "shell.execute_reply": "2023-03-20T19:05:09.778220Z"
    },
    "papermill": {
     "duration": 0.105336,
     "end_time": "2023-03-20T19:05:09.782147",
     "exception": false,
     "start_time": "2023-03-20T19:05:09.676811",
     "status": "completed"
    },
    "tags": []
   },
   "outputs": [],
   "source": [
    "# replace values\n",
    "autos['fuel_type'].mask(autos['fuel_type'] == 'benzin', 'petrol', inplace = True)\n",
    "autos['fuel_type'].mask(autos['fuel_type'] == 'andere', 'others', inplace = True)\n",
    "autos['fuel_type'].mask(autos['fuel_type'] == 'elektro', 'electric', inplace = True)\n"
   ]
  },
  {
   "cell_type": "code",
   "execution_count": 37,
   "id": "7d8051f9",
   "metadata": {
    "execution": {
     "iopub.execute_input": "2023-03-20T19:05:09.818951Z",
     "iopub.status.busy": "2023-03-20T19:05:09.818471Z",
     "iopub.status.idle": "2023-03-20T19:05:09.844943Z",
     "shell.execute_reply": "2023-03-20T19:05:09.843379Z"
    },
    "papermill": {
     "duration": 0.048104,
     "end_time": "2023-03-20T19:05:09.847817",
     "exception": false,
     "start_time": "2023-03-20T19:05:09.799713",
     "status": "completed"
    },
    "tags": []
   },
   "outputs": [
    {
     "data": {
      "text/plain": [
       "array([nan, 'coupe', 'suv', 'kleinwagen', 'limousine', 'cabrio', 'bus',\n",
       "       'kombi', 'andere'], dtype=object)"
      ]
     },
     "execution_count": 37,
     "metadata": {},
     "output_type": "execute_result"
    }
   ],
   "source": [
    "autos['vehicle_type'].unique()"
   ]
  },
  {
   "cell_type": "code",
   "execution_count": 38,
   "id": "e9758067",
   "metadata": {
    "execution": {
     "iopub.execute_input": "2023-03-20T19:05:09.887878Z",
     "iopub.status.busy": "2023-03-20T19:05:09.887391Z",
     "iopub.status.idle": "2023-03-20T19:05:09.991437Z",
     "shell.execute_reply": "2023-03-20T19:05:09.990132Z"
    },
    "papermill": {
     "duration": 0.127445,
     "end_time": "2023-03-20T19:05:09.994139",
     "exception": false,
     "start_time": "2023-03-20T19:05:09.866694",
     "status": "completed"
    },
    "tags": []
   },
   "outputs": [],
   "source": [
    "# replace values\n",
    "autos['vehicle_type'].mask(autos['vehicle_type'] == 'kleinwagen', 'small car', inplace = True)\n",
    "autos['vehicle_type'].mask(autos['vehicle_type'] == 'cabrio', 'convertible', inplace = True)\n",
    "autos['vehicle_type'].mask(autos['vehicle_type'] == 'kombi', 'station wagon', inplace = True)\n",
    "autos['vehicle_type'].mask(autos['vehicle_type'] == 'andere', 'others', inplace = True)\n"
   ]
  },
  {
   "cell_type": "code",
   "execution_count": 39,
   "id": "4095c195",
   "metadata": {
    "execution": {
     "iopub.execute_input": "2023-03-20T19:05:10.032679Z",
     "iopub.status.busy": "2023-03-20T19:05:10.032076Z",
     "iopub.status.idle": "2023-03-20T19:05:10.048546Z",
     "shell.execute_reply": "2023-03-20T19:05:10.047901Z"
    },
    "papermill": {
     "duration": 0.038386,
     "end_time": "2023-03-20T19:05:10.050510",
     "exception": false,
     "start_time": "2023-03-20T19:05:10.012124",
     "status": "completed"
    },
    "tags": []
   },
   "outputs": [
    {
     "data": {
      "text/html": [
       "<div>\n",
       "<style scoped>\n",
       "    .dataframe tbody tr th:only-of-type {\n",
       "        vertical-align: middle;\n",
       "    }\n",
       "\n",
       "    .dataframe tbody tr th {\n",
       "        vertical-align: top;\n",
       "    }\n",
       "\n",
       "    .dataframe thead th {\n",
       "        text-align: right;\n",
       "    }\n",
       "</style>\n",
       "<table border=\"1\" class=\"dataframe\">\n",
       "  <thead>\n",
       "    <tr style=\"text-align: right;\">\n",
       "      <th></th>\n",
       "      <th>date_crawled</th>\n",
       "      <th>name</th>\n",
       "      <th>seller</th>\n",
       "      <th>offer_type</th>\n",
       "      <th>price</th>\n",
       "      <th>ab_test</th>\n",
       "      <th>vehicle_type</th>\n",
       "      <th>registration_year</th>\n",
       "      <th>gearbox</th>\n",
       "      <th>power_PS</th>\n",
       "      <th>model</th>\n",
       "      <th>registration_month</th>\n",
       "      <th>fuel_type</th>\n",
       "      <th>brand</th>\n",
       "      <th>not_repaired_damage</th>\n",
       "      <th>date_created</th>\n",
       "      <th>postal_code</th>\n",
       "      <th>last_seen</th>\n",
       "      <th>odometer_km</th>\n",
       "    </tr>\n",
       "  </thead>\n",
       "  <tbody>\n",
       "    <tr>\n",
       "      <th>0</th>\n",
       "      <td>2016-03-24</td>\n",
       "      <td>Golf 3 1.6</td>\n",
       "      <td>private</td>\n",
       "      <td>offer</td>\n",
       "      <td>480</td>\n",
       "      <td>test</td>\n",
       "      <td>NaN</td>\n",
       "      <td>1993</td>\n",
       "      <td>manual</td>\n",
       "      <td>0</td>\n",
       "      <td>golf</td>\n",
       "      <td>0</td>\n",
       "      <td>petrol</td>\n",
       "      <td>volkswagen</td>\n",
       "      <td>NaN</td>\n",
       "      <td>2016-03-24</td>\n",
       "      <td>70435</td>\n",
       "      <td>2016-04-07</td>\n",
       "      <td>150000</td>\n",
       "    </tr>\n",
       "    <tr>\n",
       "      <th>1</th>\n",
       "      <td>2016-03-24</td>\n",
       "      <td>A5 Sportback 2.7 Tdi</td>\n",
       "      <td>private</td>\n",
       "      <td>offer</td>\n",
       "      <td>18300</td>\n",
       "      <td>test</td>\n",
       "      <td>coupe</td>\n",
       "      <td>2011</td>\n",
       "      <td>manual</td>\n",
       "      <td>190</td>\n",
       "      <td>NaN</td>\n",
       "      <td>5</td>\n",
       "      <td>diesel</td>\n",
       "      <td>audi</td>\n",
       "      <td>yes</td>\n",
       "      <td>2016-03-24</td>\n",
       "      <td>66954</td>\n",
       "      <td>2016-04-07</td>\n",
       "      <td>125000</td>\n",
       "    </tr>\n",
       "    <tr>\n",
       "      <th>2</th>\n",
       "      <td>2016-03-14</td>\n",
       "      <td>Jeep Grand Cherokee \"Overland\"</td>\n",
       "      <td>private</td>\n",
       "      <td>offer</td>\n",
       "      <td>9800</td>\n",
       "      <td>test</td>\n",
       "      <td>suv</td>\n",
       "      <td>2004</td>\n",
       "      <td>automatic</td>\n",
       "      <td>163</td>\n",
       "      <td>grand</td>\n",
       "      <td>8</td>\n",
       "      <td>diesel</td>\n",
       "      <td>jeep</td>\n",
       "      <td>NaN</td>\n",
       "      <td>2016-03-14</td>\n",
       "      <td>90480</td>\n",
       "      <td>2016-04-05</td>\n",
       "      <td>125000</td>\n",
       "    </tr>\n",
       "    <tr>\n",
       "      <th>3</th>\n",
       "      <td>2016-03-17</td>\n",
       "      <td>GOLF 4 1 4  3TÜRER</td>\n",
       "      <td>private</td>\n",
       "      <td>offer</td>\n",
       "      <td>1500</td>\n",
       "      <td>test</td>\n",
       "      <td>small car</td>\n",
       "      <td>2001</td>\n",
       "      <td>manual</td>\n",
       "      <td>75</td>\n",
       "      <td>golf</td>\n",
       "      <td>6</td>\n",
       "      <td>petrol</td>\n",
       "      <td>volkswagen</td>\n",
       "      <td>no</td>\n",
       "      <td>2016-03-17</td>\n",
       "      <td>91074</td>\n",
       "      <td>2016-03-17</td>\n",
       "      <td>150000</td>\n",
       "    </tr>\n",
       "    <tr>\n",
       "      <th>4</th>\n",
       "      <td>2016-03-31</td>\n",
       "      <td>Skoda Fabia 1.4 TDI PD Classic</td>\n",
       "      <td>private</td>\n",
       "      <td>offer</td>\n",
       "      <td>3600</td>\n",
       "      <td>test</td>\n",
       "      <td>small car</td>\n",
       "      <td>2008</td>\n",
       "      <td>manual</td>\n",
       "      <td>69</td>\n",
       "      <td>fabia</td>\n",
       "      <td>7</td>\n",
       "      <td>diesel</td>\n",
       "      <td>skoda</td>\n",
       "      <td>no</td>\n",
       "      <td>2016-03-31</td>\n",
       "      <td>60437</td>\n",
       "      <td>2016-04-06</td>\n",
       "      <td>90000</td>\n",
       "    </tr>\n",
       "  </tbody>\n",
       "</table>\n",
       "</div>"
      ],
      "text/plain": [
       "  date_crawled                            name   seller offer_type  price  \\\n",
       "0   2016-03-24                      Golf 3 1.6  private      offer    480   \n",
       "1   2016-03-24            A5 Sportback 2.7 Tdi  private      offer  18300   \n",
       "2   2016-03-14  Jeep Grand Cherokee \"Overland\"  private      offer   9800   \n",
       "3   2016-03-17              GOLF 4 1 4  3TÜRER  private      offer   1500   \n",
       "4   2016-03-31  Skoda Fabia 1.4 TDI PD Classic  private      offer   3600   \n",
       "\n",
       "  ab_test vehicle_type  registration_year    gearbox  power_PS  model  \\\n",
       "0    test          NaN               1993     manual         0   golf   \n",
       "1    test        coupe               2011     manual       190    NaN   \n",
       "2    test          suv               2004  automatic       163  grand   \n",
       "3    test    small car               2001     manual        75   golf   \n",
       "4    test    small car               2008     manual        69  fabia   \n",
       "\n",
       "   registration_month fuel_type       brand not_repaired_damage date_created  \\\n",
       "0                   0    petrol  volkswagen                 NaN   2016-03-24   \n",
       "1                   5    diesel        audi                 yes   2016-03-24   \n",
       "2                   8    diesel        jeep                 NaN   2016-03-14   \n",
       "3                   6    petrol  volkswagen                  no   2016-03-17   \n",
       "4                   7    diesel       skoda                  no   2016-03-31   \n",
       "\n",
       "   postal_code   last_seen  odometer_km  \n",
       "0        70435  2016-04-07       150000  \n",
       "1        66954  2016-04-07       125000  \n",
       "2        90480  2016-04-05       125000  \n",
       "3        91074  2016-03-17       150000  \n",
       "4        60437  2016-04-06        90000  "
      ]
     },
     "execution_count": 39,
     "metadata": {},
     "output_type": "execute_result"
    }
   ],
   "source": [
    "autos.head()"
   ]
  },
  {
   "cell_type": "markdown",
   "id": "142bba51",
   "metadata": {
    "papermill": {
     "duration": 0.01774,
     "end_time": "2023-03-20T19:05:10.086407",
     "exception": false,
     "start_time": "2023-03-20T19:05:10.068667",
     "status": "completed"
    },
    "tags": []
   },
   "source": [
    "# Exploration Process (EDA)"
   ]
  },
  {
   "cell_type": "markdown",
   "id": "ebfb7675",
   "metadata": {
    "papermill": {
     "duration": 0.017803,
     "end_time": "2023-03-20T19:05:10.122593",
     "exception": false,
     "start_time": "2023-03-20T19:05:10.104790",
     "status": "completed"
    },
    "tags": []
   },
   "source": [
    "## 1. Price by Brand\n"
   ]
  },
  {
   "cell_type": "code",
   "execution_count": 40,
   "id": "99474018",
   "metadata": {
    "execution": {
     "iopub.execute_input": "2023-03-20T19:05:10.161592Z",
     "iopub.status.busy": "2023-03-20T19:05:10.160484Z",
     "iopub.status.idle": "2023-03-20T19:05:10.188246Z",
     "shell.execute_reply": "2023-03-20T19:05:10.187512Z"
    },
    "papermill": {
     "duration": 0.049366,
     "end_time": "2023-03-20T19:05:10.190131",
     "exception": false,
     "start_time": "2023-03-20T19:05:10.140765",
     "status": "completed"
    },
    "scrolled": true,
    "tags": []
   },
   "outputs": [
    {
     "data": {
      "text/plain": [
       "['volkswagen',\n",
       " 'bmw',\n",
       " 'opel',\n",
       " 'mercedes_benz',\n",
       " 'audi',\n",
       " 'ford',\n",
       " 'renault',\n",
       " 'peugeot',\n",
       " 'fiat',\n",
       " 'seat']"
      ]
     },
     "execution_count": 40,
     "metadata": {},
     "output_type": "execute_result"
    }
   ],
   "source": [
    "#list of the top 10 brands \n",
    "\n",
    "top_brands = autos['brand'].value_counts(normalize = True, sort = True).index[0:10]\n",
    "tb = list(top_brands)\n",
    "tb\n"
   ]
  },
  {
   "cell_type": "code",
   "execution_count": 41,
   "id": "37a438a4",
   "metadata": {
    "execution": {
     "iopub.execute_input": "2023-03-20T19:05:10.228023Z",
     "iopub.status.busy": "2023-03-20T19:05:10.227649Z",
     "iopub.status.idle": "2023-03-20T19:05:10.649014Z",
     "shell.execute_reply": "2023-03-20T19:05:10.647502Z"
    },
    "papermill": {
     "duration": 0.442814,
     "end_time": "2023-03-20T19:05:10.651041",
     "exception": false,
     "start_time": "2023-03-20T19:05:10.208227",
     "status": "completed"
    },
    "scrolled": true,
    "tags": []
   },
   "outputs": [
    {
     "data": {
      "text/html": [
       "<div>\n",
       "<style scoped>\n",
       "    .dataframe tbody tr th:only-of-type {\n",
       "        vertical-align: middle;\n",
       "    }\n",
       "\n",
       "    .dataframe tbody tr th {\n",
       "        vertical-align: top;\n",
       "    }\n",
       "\n",
       "    .dataframe thead th {\n",
       "        text-align: right;\n",
       "    }\n",
       "</style>\n",
       "<table border=\"1\" class=\"dataframe\">\n",
       "  <thead>\n",
       "    <tr style=\"text-align: right;\">\n",
       "      <th></th>\n",
       "      <th>brands</th>\n",
       "      <th>mean_price</th>\n",
       "    </tr>\n",
       "  </thead>\n",
       "  <tbody>\n",
       "    <tr>\n",
       "      <th>4</th>\n",
       "      <td>audi</td>\n",
       "      <td>8761</td>\n",
       "    </tr>\n",
       "    <tr>\n",
       "      <th>1</th>\n",
       "      <td>bmw</td>\n",
       "      <td>8116</td>\n",
       "    </tr>\n",
       "    <tr>\n",
       "      <th>3</th>\n",
       "      <td>mercedes_benz</td>\n",
       "      <td>8064</td>\n",
       "    </tr>\n",
       "    <tr>\n",
       "      <th>0</th>\n",
       "      <td>volkswagen</td>\n",
       "      <td>5212</td>\n",
       "    </tr>\n",
       "    <tr>\n",
       "      <th>9</th>\n",
       "      <td>seat</td>\n",
       "      <td>4398</td>\n",
       "    </tr>\n",
       "    <tr>\n",
       "      <th>5</th>\n",
       "      <td>ford</td>\n",
       "      <td>3578</td>\n",
       "    </tr>\n",
       "    <tr>\n",
       "      <th>7</th>\n",
       "      <td>peugeot</td>\n",
       "      <td>3206</td>\n",
       "    </tr>\n",
       "    <tr>\n",
       "      <th>2</th>\n",
       "      <td>opel</td>\n",
       "      <td>2868</td>\n",
       "    </tr>\n",
       "    <tr>\n",
       "      <th>8</th>\n",
       "      <td>fiat</td>\n",
       "      <td>2804</td>\n",
       "    </tr>\n",
       "    <tr>\n",
       "      <th>6</th>\n",
       "      <td>renault</td>\n",
       "      <td>2347</td>\n",
       "    </tr>\n",
       "  </tbody>\n",
       "</table>\n",
       "</div>"
      ],
      "text/plain": [
       "          brands  mean_price\n",
       "4           audi        8761\n",
       "1            bmw        8116\n",
       "3  mercedes_benz        8064\n",
       "0     volkswagen        5212\n",
       "9           seat        4398\n",
       "5           ford        3578\n",
       "7        peugeot        3206\n",
       "2           opel        2868\n",
       "8           fiat        2804\n",
       "6        renault        2347"
      ]
     },
     "execution_count": 41,
     "metadata": {},
     "output_type": "execute_result"
    }
   ],
   "source": [
    "\n",
    "#create an empty dictionary\n",
    "mean_price_by_brand = {}\n",
    "\n",
    "#loop over brand for the mean of each brand\n",
    "for b in tb:\n",
    "    selected_rows = autos[autos['brand']== b]\n",
    "    mean = round(selected_rows['price'].mean())\n",
    "    mean_price_by_brand[b] = mean\n",
    "    \n",
    "#convert to series\n",
    "mean_price_series = pd.Series(mean_price_by_brand)\n",
    "#Convert to dataframe\n",
    "df = pd.DataFrame(mean_price_series, columns = ['mean_price'])\n",
    "df = df.reset_index()\n",
    "df.columns = 'brands', 'mean_price'\n",
    "df = df.sort_values(by = 'mean_price', ascending = False)\n",
    "df"
   ]
  },
  {
   "cell_type": "markdown",
   "id": "0bf41e0c",
   "metadata": {
    "papermill": {
     "duration": 0.017507,
     "end_time": "2023-03-20T19:05:10.686675",
     "exception": false,
     "start_time": "2023-03-20T19:05:10.669168",
     "status": "completed"
    },
    "tags": []
   },
   "source": [
    "The 10 cars with the most listing shows audi, bmw and mercedes_benz as the expensive cars, volkswagen as averagely expensive and ford, fiat and opel as cheap cars."
   ]
  },
  {
   "cell_type": "code",
   "execution_count": 42,
   "id": "409e89e3",
   "metadata": {
    "execution": {
     "iopub.execute_input": "2023-03-20T19:05:10.724217Z",
     "iopub.status.busy": "2023-03-20T19:05:10.723757Z",
     "iopub.status.idle": "2023-03-20T19:05:10.904881Z",
     "shell.execute_reply": "2023-03-20T19:05:10.904208Z"
    },
    "papermill": {
     "duration": 0.202383,
     "end_time": "2023-03-20T19:05:10.906920",
     "exception": false,
     "start_time": "2023-03-20T19:05:10.704537",
     "status": "completed"
    },
    "tags": []
   },
   "outputs": [
    {
     "data": {
      "image/png": "[encoded data removed]",
      "text/plain": [
       "<Figure size 640x480 with 1 Axes>"
      ]
     },
     "metadata": {},
     "output_type": "display_data"
    }
   ],
   "source": [
    "#visualize the average price per brand\n",
    "sns.barplot(x = 'mean_price', y = 'brands', data = df, palette = 'dark:#5A9_r')\n",
    "plt.title('Average Price Per Brand')\n",
    "plt.show()\n"
   ]
  },
  {
   "cell_type": "markdown",
   "id": "158ae762",
   "metadata": {
    "papermill": {
     "duration": 0.018136,
     "end_time": "2023-03-20T19:05:10.944294",
     "exception": false,
     "start_time": "2023-03-20T19:05:10.926158",
     "status": "completed"
    },
    "tags": []
   },
   "source": [
    "## 2. Relationship between Price, Milage and Brands"
   ]
  },
  {
   "cell_type": "code",
   "execution_count": 43,
   "id": "74bedb7e",
   "metadata": {
    "execution": {
     "iopub.execute_input": "2023-03-20T19:05:10.982985Z",
     "iopub.status.busy": "2023-03-20T19:05:10.981720Z",
     "iopub.status.idle": "2023-03-20T19:05:11.811534Z",
     "shell.execute_reply": "2023-03-20T19:05:11.810211Z"
    },
    "papermill": {
     "duration": 0.851345,
     "end_time": "2023-03-20T19:05:11.813780",
     "exception": false,
     "start_time": "2023-03-20T19:05:10.962435",
     "status": "completed"
    },
    "tags": []
   },
   "outputs": [
    {
     "data": {
      "text/html": [
       "<div>\n",
       "<style scoped>\n",
       "    .dataframe tbody tr th:only-of-type {\n",
       "        vertical-align: middle;\n",
       "    }\n",
       "\n",
       "    .dataframe tbody tr th {\n",
       "        vertical-align: top;\n",
       "    }\n",
       "\n",
       "    .dataframe thead th {\n",
       "        text-align: right;\n",
       "    }\n",
       "</style>\n",
       "<table border=\"1\" class=\"dataframe\">\n",
       "  <thead>\n",
       "    <tr style=\"text-align: right;\">\n",
       "      <th></th>\n",
       "      <th>brands</th>\n",
       "      <th>mean_price</th>\n",
       "      <th>mean_mil</th>\n",
       "    </tr>\n",
       "  </thead>\n",
       "  <tbody>\n",
       "    <tr>\n",
       "      <th>4</th>\n",
       "      <td>audi</td>\n",
       "      <td>8761</td>\n",
       "      <td>129584</td>\n",
       "    </tr>\n",
       "    <tr>\n",
       "      <th>1</th>\n",
       "      <td>bmw</td>\n",
       "      <td>8116</td>\n",
       "      <td>132757</td>\n",
       "    </tr>\n",
       "    <tr>\n",
       "      <th>3</th>\n",
       "      <td>mercedes_benz</td>\n",
       "      <td>8064</td>\n",
       "      <td>130830</td>\n",
       "    </tr>\n",
       "    <tr>\n",
       "      <th>0</th>\n",
       "      <td>volkswagen</td>\n",
       "      <td>5212</td>\n",
       "      <td>128346</td>\n",
       "    </tr>\n",
       "    <tr>\n",
       "      <th>9</th>\n",
       "      <td>seat</td>\n",
       "      <td>4398</td>\n",
       "      <td>120912</td>\n",
       "    </tr>\n",
       "    <tr>\n",
       "      <th>5</th>\n",
       "      <td>ford</td>\n",
       "      <td>3578</td>\n",
       "      <td>123633</td>\n",
       "    </tr>\n",
       "  </tbody>\n",
       "</table>\n",
       "</div>"
      ],
      "text/plain": [
       "          brands  mean_price  mean_mil\n",
       "4           audi        8761    129584\n",
       "1            bmw        8116    132757\n",
       "3  mercedes_benz        8064    130830\n",
       "0     volkswagen        5212    128346\n",
       "9           seat        4398    120912\n",
       "5           ford        3578    123633"
      ]
     },
     "execution_count": 43,
     "metadata": {},
     "output_type": "execute_result"
    }
   ],
   "source": [
    "#create brand per average price dataframe\n",
    "#create an empty dictionary\n",
    "mean_price_by_brand = {}\n",
    "\n",
    "#loop over brand for the mean of each brand\n",
    "for b in tb:\n",
    "    selected_rows = autos[autos['brand']== b]\n",
    "    mean = round(selected_rows['price'].mean())\n",
    "    mean_price_by_brand[b] = mean\n",
    "    \n",
    "#convert to series\n",
    "mean_price_series = pd.Series(mean_price_by_brand)\n",
    "#Convert to dataframe\n",
    "df = pd.DataFrame(mean_price_series, columns = ['mean_price'])\n",
    "\n",
    "#create an empty dictionary\n",
    "mean_mil_by_brand = {}\n",
    "\n",
    "#loop over brand for the mean of each brand\n",
    "for b in tb:\n",
    "    selected_rows = autos[autos['brand']== b]\n",
    "    mean = round(selected_rows['odometer_km'].mean())\n",
    "    mean_mil_by_brand[b] = mean\n",
    "    \n",
    "#convert to series\n",
    "mean_mil_series = pd.Series(mean_mil_by_brand)\n",
    "#Convert to dataframe\n",
    "df['mean_mil'] = mean_mil_series\n",
    "df = df.reset_index()\n",
    "df.columns = 'brands', 'mean_price', 'mean_mil'\n",
    "df = df.sort_values(by = ['mean_price'], ascending = False)\n",
    "df.head(6)\n"
   ]
  },
  {
   "cell_type": "markdown",
   "id": "04f399db",
   "metadata": {
    "papermill": {
     "duration": 0.019313,
     "end_time": "2023-03-20T19:05:11.852756",
     "exception": false,
     "start_time": "2023-03-20T19:05:11.833443",
     "status": "completed"
    },
    "tags": []
   },
   "source": [
    " There seem to be connection between price and mileage, as the price decreases the mileage decreases so cars with more mileage are more expensive."
   ]
  },
  {
   "cell_type": "markdown",
   "id": "94477513",
   "metadata": {
    "papermill": {
     "duration": 0.018131,
     "end_time": "2023-03-20T19:05:11.889747",
     "exception": false,
     "start_time": "2023-03-20T19:05:11.871616",
     "status": "completed"
    },
    "tags": []
   },
   "source": [
    "## 3.  Most common brand/model combinations"
   ]
  },
  {
   "cell_type": "code",
   "execution_count": 44,
   "id": "eb1a181d",
   "metadata": {
    "execution": {
     "iopub.execute_input": "2023-03-20T19:05:11.928247Z",
     "iopub.status.busy": "2023-03-20T19:05:11.927618Z",
     "iopub.status.idle": "2023-03-20T19:05:12.006791Z",
     "shell.execute_reply": "2023-03-20T19:05:12.005772Z"
    },
    "papermill": {
     "duration": 0.100668,
     "end_time": "2023-03-20T19:05:12.008811",
     "exception": false,
     "start_time": "2023-03-20T19:05:11.908143",
     "status": "completed"
    },
    "tags": []
   },
   "outputs": [
    {
     "data": {
      "text/html": [
       "<div>\n",
       "<style scoped>\n",
       "    .dataframe tbody tr th:only-of-type {\n",
       "        vertical-align: middle;\n",
       "    }\n",
       "\n",
       "    .dataframe tbody tr th {\n",
       "        vertical-align: top;\n",
       "    }\n",
       "\n",
       "    .dataframe thead th {\n",
       "        text-align: right;\n",
       "    }\n",
       "</style>\n",
       "<table border=\"1\" class=\"dataframe\">\n",
       "  <thead>\n",
       "    <tr style=\"text-align: right;\">\n",
       "      <th></th>\n",
       "      <th>brand</th>\n",
       "      <th>model</th>\n",
       "      <th>count</th>\n",
       "    </tr>\n",
       "  </thead>\n",
       "  <tbody>\n",
       "    <tr>\n",
       "      <th>0</th>\n",
       "      <td>volkswagen</td>\n",
       "      <td>golf</td>\n",
       "      <td>28422</td>\n",
       "    </tr>\n",
       "    <tr>\n",
       "      <th>1</th>\n",
       "      <td>bmw</td>\n",
       "      <td>3er</td>\n",
       "      <td>20021</td>\n",
       "    </tr>\n",
       "    <tr>\n",
       "      <th>2</th>\n",
       "      <td>volkswagen</td>\n",
       "      <td>polo</td>\n",
       "      <td>12473</td>\n",
       "    </tr>\n",
       "    <tr>\n",
       "      <th>3</th>\n",
       "      <td>opel</td>\n",
       "      <td>corsa</td>\n",
       "      <td>11941</td>\n",
       "    </tr>\n",
       "    <tr>\n",
       "      <th>4</th>\n",
       "      <td>opel</td>\n",
       "      <td>astra</td>\n",
       "      <td>10356</td>\n",
       "    </tr>\n",
       "    <tr>\n",
       "      <th>5</th>\n",
       "      <td>audi</td>\n",
       "      <td>a4</td>\n",
       "      <td>10050</td>\n",
       "    </tr>\n",
       "    <tr>\n",
       "      <th>6</th>\n",
       "      <td>volkswagen</td>\n",
       "      <td>passat</td>\n",
       "      <td>10000</td>\n",
       "    </tr>\n",
       "    <tr>\n",
       "      <th>7</th>\n",
       "      <td>mercedes_benz</td>\n",
       "      <td>c_klasse</td>\n",
       "      <td>8569</td>\n",
       "    </tr>\n",
       "    <tr>\n",
       "      <th>8</th>\n",
       "      <td>bmw</td>\n",
       "      <td>5er</td>\n",
       "      <td>8395</td>\n",
       "    </tr>\n",
       "    <tr>\n",
       "      <th>9</th>\n",
       "      <td>mercedes_benz</td>\n",
       "      <td>e_klasse</td>\n",
       "      <td>7406</td>\n",
       "    </tr>\n",
       "  </tbody>\n",
       "</table>\n",
       "</div>"
      ],
      "text/plain": [
       "           brand     model  count\n",
       "0     volkswagen      golf  28422\n",
       "1            bmw       3er  20021\n",
       "2     volkswagen      polo  12473\n",
       "3           opel     corsa  11941\n",
       "4           opel     astra  10356\n",
       "5           audi        a4  10050\n",
       "6     volkswagen    passat  10000\n",
       "7  mercedes_benz  c_klasse   8569\n",
       "8            bmw       5er   8395\n",
       "9  mercedes_benz  e_klasse   7406"
      ]
     },
     "execution_count": 44,
     "metadata": {},
     "output_type": "execute_result"
    }
   ],
   "source": [
    "#count brand and model combo\n",
    "bm = autos[['brand', 'model']].value_counts()\n",
    "#convert to series\n",
    "bm_series = pd.Series(bm.head(10))\n",
    "\n",
    "#convert to dataframe\n",
    "bm_df = pd.DataFrame(bm_series).reset_index()\n",
    "#name columns\n",
    "bm_df.columns = 'brand', 'model', 'count'\n",
    "bm_df"
   ]
  },
  {
   "cell_type": "markdown",
   "id": "41cc3f2a",
   "metadata": {
    "papermill": {
     "duration": 0.019643,
     "end_time": "2023-03-20T19:05:12.048043",
     "exception": false,
     "start_time": "2023-03-20T19:05:12.028400",
     "status": "completed"
    },
    "tags": []
   },
   "source": [
    "## 4. State of car to price"
   ]
  },
  {
   "cell_type": "code",
   "execution_count": 45,
   "id": "d902645e",
   "metadata": {
    "execution": {
     "iopub.execute_input": "2023-03-20T19:05:12.088832Z",
     "iopub.status.busy": "2023-03-20T19:05:12.088471Z",
     "iopub.status.idle": "2023-03-20T19:05:12.176456Z",
     "shell.execute_reply": "2023-03-20T19:05:12.175160Z"
    },
    "papermill": {
     "duration": 0.111601,
     "end_time": "2023-03-20T19:05:12.179379",
     "exception": false,
     "start_time": "2023-03-20T19:05:12.067778",
     "status": "completed"
    },
    "tags": []
   },
   "outputs": [
    {
     "data": {
      "text/html": [
       "<div>\n",
       "<style scoped>\n",
       "    .dataframe tbody tr th:only-of-type {\n",
       "        vertical-align: middle;\n",
       "    }\n",
       "\n",
       "    .dataframe tbody tr th {\n",
       "        vertical-align: top;\n",
       "    }\n",
       "\n",
       "    .dataframe thead th {\n",
       "        text-align: right;\n",
       "    }\n",
       "</style>\n",
       "<table border=\"1\" class=\"dataframe\">\n",
       "  <thead>\n",
       "    <tr style=\"text-align: right;\">\n",
       "      <th>not_repaired_damage</th>\n",
       "      <th>no</th>\n",
       "      <th>yes</th>\n",
       "    </tr>\n",
       "    <tr>\n",
       "      <th>brand</th>\n",
       "      <th></th>\n",
       "      <th></th>\n",
       "    </tr>\n",
       "  </thead>\n",
       "  <tbody>\n",
       "    <tr>\n",
       "      <th>alfa_romeo</th>\n",
       "      <td>5031.428298</td>\n",
       "      <td>1451.686154</td>\n",
       "    </tr>\n",
       "    <tr>\n",
       "      <th>audi</th>\n",
       "      <td>10331.259235</td>\n",
       "      <td>3256.589884</td>\n",
       "    </tr>\n",
       "    <tr>\n",
       "      <th>bmw</th>\n",
       "      <td>9341.479687</td>\n",
       "      <td>3440.813716</td>\n",
       "    </tr>\n",
       "    <tr>\n",
       "      <th>chevrolet</th>\n",
       "      <td>7527.606792</td>\n",
       "      <td>3288.512500</td>\n",
       "    </tr>\n",
       "    <tr>\n",
       "      <th>chrysler</th>\n",
       "      <td>4917.034446</td>\n",
       "      <td>1492.481132</td>\n",
       "    </tr>\n",
       "    <tr>\n",
       "      <th>citroen</th>\n",
       "      <td>4292.394250</td>\n",
       "      <td>1669.564103</td>\n",
       "    </tr>\n",
       "    <tr>\n",
       "      <th>dacia</th>\n",
       "      <td>6299.592958</td>\n",
       "      <td>3281.059701</td>\n",
       "    </tr>\n",
       "    <tr>\n",
       "      <th>daewoo</th>\n",
       "      <td>1185.645161</td>\n",
       "      <td>607.978261</td>\n",
       "    </tr>\n",
       "    <tr>\n",
       "      <th>daihatsu</th>\n",
       "      <td>2144.562753</td>\n",
       "      <td>786.813084</td>\n",
       "    </tr>\n",
       "    <tr>\n",
       "      <th>fiat</th>\n",
       "      <td>3514.469340</td>\n",
       "      <td>1234.307309</td>\n",
       "    </tr>\n",
       "  </tbody>\n",
       "</table>\n",
       "</div>"
      ],
      "text/plain": [
       "not_repaired_damage            no          yes\n",
       "brand                                         \n",
       "alfa_romeo            5031.428298  1451.686154\n",
       "audi                 10331.259235  3256.589884\n",
       "bmw                   9341.479687  3440.813716\n",
       "chevrolet             7527.606792  3288.512500\n",
       "chrysler              4917.034446  1492.481132\n",
       "citroen               4292.394250  1669.564103\n",
       "dacia                 6299.592958  3281.059701\n",
       "daewoo                1185.645161   607.978261\n",
       "daihatsu              2144.562753   786.813084\n",
       "fiat                  3514.469340  1234.307309"
      ]
     },
     "execution_count": 45,
     "metadata": {},
     "output_type": "execute_result"
    }
   ],
   "source": [
    "#create a pivot table of brand and price to not repaired damage column\n",
    "dp = autos.pivot_table(values = 'price', index = 'brand', columns = 'not_repaired_damage', sort = True, aggfunc = 'mean')\n",
    "\n",
    "dp.head(10)"
   ]
  },
  {
   "cell_type": "markdown",
   "id": "cbc01bc5",
   "metadata": {
    "papermill": {
     "duration": 0.018176,
     "end_time": "2023-03-20T19:05:12.217267",
     "exception": false,
     "start_time": "2023-03-20T19:05:12.199091",
     "status": "completed"
    },
    "tags": []
   },
   "source": [
    "#### This shows that cars with repaired damages are more expensive than cars with damages unrepaired"
   ]
  },
  {
   "cell_type": "markdown",
   "id": "3085d04e",
   "metadata": {
    "papermill": {
     "duration": 0.019086,
     "end_time": "2023-03-20T19:05:12.255314",
     "exception": false,
     "start_time": "2023-03-20T19:05:12.236228",
     "status": "completed"
    },
    "tags": []
   },
   "source": [
    "## 5. Milage to Price"
   ]
  },
  {
   "cell_type": "code",
   "execution_count": 46,
   "id": "678b5a95",
   "metadata": {
    "execution": {
     "iopub.execute_input": "2023-03-20T19:05:12.295447Z",
     "iopub.status.busy": "2023-03-20T19:05:12.294968Z",
     "iopub.status.idle": "2023-03-20T19:05:12.429723Z",
     "shell.execute_reply": "2023-03-20T19:05:12.428773Z"
    },
    "papermill": {
     "duration": 0.157355,
     "end_time": "2023-03-20T19:05:12.431644",
     "exception": false,
     "start_time": "2023-03-20T19:05:12.274289",
     "status": "completed"
    },
    "tags": []
   },
   "outputs": [
    {
     "data": {
      "text/html": [
       "<div>\n",
       "<style scoped>\n",
       "    .dataframe tbody tr th:only-of-type {\n",
       "        vertical-align: middle;\n",
       "    }\n",
       "\n",
       "    .dataframe tbody tr th {\n",
       "        vertical-align: top;\n",
       "    }\n",
       "\n",
       "    .dataframe thead th {\n",
       "        text-align: right;\n",
       "    }\n",
       "</style>\n",
       "<table border=\"1\" class=\"dataframe\">\n",
       "  <thead>\n",
       "    <tr style=\"text-align: right;\">\n",
       "      <th></th>\n",
       "      <th>date_crawled</th>\n",
       "      <th>name</th>\n",
       "      <th>seller</th>\n",
       "      <th>offer_type</th>\n",
       "      <th>price</th>\n",
       "      <th>ab_test</th>\n",
       "      <th>vehicle_type</th>\n",
       "      <th>registration_year</th>\n",
       "      <th>gearbox</th>\n",
       "      <th>power_PS</th>\n",
       "      <th>model</th>\n",
       "      <th>registration_month</th>\n",
       "      <th>fuel_type</th>\n",
       "      <th>brand</th>\n",
       "      <th>not_repaired_damage</th>\n",
       "      <th>date_created</th>\n",
       "      <th>postal_code</th>\n",
       "      <th>last_seen</th>\n",
       "      <th>odometer_km</th>\n",
       "      <th>mileage</th>\n",
       "    </tr>\n",
       "  </thead>\n",
       "  <tbody>\n",
       "    <tr>\n",
       "      <th>0</th>\n",
       "      <td>2016-03-24</td>\n",
       "      <td>Golf 3 1.6</td>\n",
       "      <td>private</td>\n",
       "      <td>offer</td>\n",
       "      <td>480</td>\n",
       "      <td>test</td>\n",
       "      <td>NaN</td>\n",
       "      <td>1993</td>\n",
       "      <td>manual</td>\n",
       "      <td>0</td>\n",
       "      <td>golf</td>\n",
       "      <td>0</td>\n",
       "      <td>petrol</td>\n",
       "      <td>volkswagen</td>\n",
       "      <td>NaN</td>\n",
       "      <td>2016-03-24</td>\n",
       "      <td>70435</td>\n",
       "      <td>2016-04-07</td>\n",
       "      <td>150000</td>\n",
       "      <td>high mileage</td>\n",
       "    </tr>\n",
       "    <tr>\n",
       "      <th>1</th>\n",
       "      <td>2016-03-24</td>\n",
       "      <td>A5 Sportback 2.7 Tdi</td>\n",
       "      <td>private</td>\n",
       "      <td>offer</td>\n",
       "      <td>18300</td>\n",
       "      <td>test</td>\n",
       "      <td>coupe</td>\n",
       "      <td>2011</td>\n",
       "      <td>manual</td>\n",
       "      <td>190</td>\n",
       "      <td>NaN</td>\n",
       "      <td>5</td>\n",
       "      <td>diesel</td>\n",
       "      <td>audi</td>\n",
       "      <td>yes</td>\n",
       "      <td>2016-03-24</td>\n",
       "      <td>66954</td>\n",
       "      <td>2016-04-07</td>\n",
       "      <td>125000</td>\n",
       "      <td>high mileage</td>\n",
       "    </tr>\n",
       "    <tr>\n",
       "      <th>2</th>\n",
       "      <td>2016-03-14</td>\n",
       "      <td>Jeep Grand Cherokee \"Overland\"</td>\n",
       "      <td>private</td>\n",
       "      <td>offer</td>\n",
       "      <td>9800</td>\n",
       "      <td>test</td>\n",
       "      <td>suv</td>\n",
       "      <td>2004</td>\n",
       "      <td>automatic</td>\n",
       "      <td>163</td>\n",
       "      <td>grand</td>\n",
       "      <td>8</td>\n",
       "      <td>diesel</td>\n",
       "      <td>jeep</td>\n",
       "      <td>NaN</td>\n",
       "      <td>2016-03-14</td>\n",
       "      <td>90480</td>\n",
       "      <td>2016-04-05</td>\n",
       "      <td>125000</td>\n",
       "      <td>high mileage</td>\n",
       "    </tr>\n",
       "    <tr>\n",
       "      <th>3</th>\n",
       "      <td>2016-03-17</td>\n",
       "      <td>GOLF 4 1 4  3TÜRER</td>\n",
       "      <td>private</td>\n",
       "      <td>offer</td>\n",
       "      <td>1500</td>\n",
       "      <td>test</td>\n",
       "      <td>small car</td>\n",
       "      <td>2001</td>\n",
       "      <td>manual</td>\n",
       "      <td>75</td>\n",
       "      <td>golf</td>\n",
       "      <td>6</td>\n",
       "      <td>petrol</td>\n",
       "      <td>volkswagen</td>\n",
       "      <td>no</td>\n",
       "      <td>2016-03-17</td>\n",
       "      <td>91074</td>\n",
       "      <td>2016-03-17</td>\n",
       "      <td>150000</td>\n",
       "      <td>high mileage</td>\n",
       "    </tr>\n",
       "    <tr>\n",
       "      <th>4</th>\n",
       "      <td>2016-03-31</td>\n",
       "      <td>Skoda Fabia 1.4 TDI PD Classic</td>\n",
       "      <td>private</td>\n",
       "      <td>offer</td>\n",
       "      <td>3600</td>\n",
       "      <td>test</td>\n",
       "      <td>small car</td>\n",
       "      <td>2008</td>\n",
       "      <td>manual</td>\n",
       "      <td>69</td>\n",
       "      <td>fabia</td>\n",
       "      <td>7</td>\n",
       "      <td>diesel</td>\n",
       "      <td>skoda</td>\n",
       "      <td>no</td>\n",
       "      <td>2016-03-31</td>\n",
       "      <td>60437</td>\n",
       "      <td>2016-04-06</td>\n",
       "      <td>90000</td>\n",
       "      <td>high mileage</td>\n",
       "    </tr>\n",
       "  </tbody>\n",
       "</table>\n",
       "</div>"
      ],
      "text/plain": [
       "  date_crawled                            name   seller offer_type  price  \\\n",
       "0   2016-03-24                      Golf 3 1.6  private      offer    480   \n",
       "1   2016-03-24            A5 Sportback 2.7 Tdi  private      offer  18300   \n",
       "2   2016-03-14  Jeep Grand Cherokee \"Overland\"  private      offer   9800   \n",
       "3   2016-03-17              GOLF 4 1 4  3TÜRER  private      offer   1500   \n",
       "4   2016-03-31  Skoda Fabia 1.4 TDI PD Classic  private      offer   3600   \n",
       "\n",
       "  ab_test vehicle_type  registration_year    gearbox  power_PS  model  \\\n",
       "0    test          NaN               1993     manual         0   golf   \n",
       "1    test        coupe               2011     manual       190    NaN   \n",
       "2    test          suv               2004  automatic       163  grand   \n",
       "3    test    small car               2001     manual        75   golf   \n",
       "4    test    small car               2008     manual        69  fabia   \n",
       "\n",
       "   registration_month fuel_type       brand not_repaired_damage date_created  \\\n",
       "0                   0    petrol  volkswagen                 NaN   2016-03-24   \n",
       "1                   5    diesel        audi                 yes   2016-03-24   \n",
       "2                   8    diesel        jeep                 NaN   2016-03-14   \n",
       "3                   6    petrol  volkswagen                  no   2016-03-17   \n",
       "4                   7    diesel       skoda                  no   2016-03-31   \n",
       "\n",
       "   postal_code   last_seen  odometer_km       mileage  \n",
       "0        70435  2016-04-07       150000  high mileage  \n",
       "1        66954  2016-04-07       125000  high mileage  \n",
       "2        90480  2016-04-05       125000  high mileage  \n",
       "3        91074  2016-03-17       150000  high mileage  \n",
       "4        60437  2016-04-06        90000  high mileage  "
      ]
     },
     "execution_count": 46,
     "metadata": {},
     "output_type": "execute_result"
    }
   ],
   "source": [
    "# group odometer in to categories of mileage: low mileage, average mileage, high mileage\n",
    "mileage = []\n",
    "km = autos['odometer_km'].unique()\n",
    "for m in autos['odometer_km']:\n",
    "    if m < 50000 : mileage.append('low mileage')\n",
    "    elif m < 90000 : mileage.append('average mileage')\n",
    "    else : mileage.append('high mileage')\n",
    "autos['mileage'] = mileage\n",
    "autos.head()"
   ]
  },
  {
   "cell_type": "code",
   "execution_count": 47,
   "id": "e4019f6b",
   "metadata": {
    "execution": {
     "iopub.execute_input": "2023-03-20T19:05:12.472246Z",
     "iopub.status.busy": "2023-03-20T19:05:12.471819Z",
     "iopub.status.idle": "2023-03-20T19:05:12.491601Z",
     "shell.execute_reply": "2023-03-20T19:05:12.490536Z"
    },
    "papermill": {
     "duration": 0.042817,
     "end_time": "2023-03-20T19:05:12.494016",
     "exception": false,
     "start_time": "2023-03-20T19:05:12.451199",
     "status": "completed"
    },
    "tags": []
   },
   "outputs": [],
   "source": [
    "#list of the top mileage\n",
    "\n",
    "mile_age = autos['mileage'].value_counts(normalize = True, sort = True).index[0:10]\n",
    "ma = list(mile_age)"
   ]
  },
  {
   "cell_type": "code",
   "execution_count": 48,
   "id": "82e4c55a",
   "metadata": {
    "execution": {
     "iopub.execute_input": "2023-03-20T19:05:12.535168Z",
     "iopub.status.busy": "2023-03-20T19:05:12.534667Z",
     "iopub.status.idle": "2023-03-20T19:05:12.798144Z",
     "shell.execute_reply": "2023-03-20T19:05:12.796743Z"
    },
    "papermill": {
     "duration": 0.287148,
     "end_time": "2023-03-20T19:05:12.800966",
     "exception": false,
     "start_time": "2023-03-20T19:05:12.513818",
     "status": "completed"
    },
    "tags": []
   },
   "outputs": [
    {
     "data": {
      "text/html": [
       "<div>\n",
       "<style scoped>\n",
       "    .dataframe tbody tr th:only-of-type {\n",
       "        vertical-align: middle;\n",
       "    }\n",
       "\n",
       "    .dataframe tbody tr th {\n",
       "        vertical-align: top;\n",
       "    }\n",
       "\n",
       "    .dataframe thead th {\n",
       "        text-align: right;\n",
       "    }\n",
       "</style>\n",
       "<table border=\"1\" class=\"dataframe\">\n",
       "  <thead>\n",
       "    <tr style=\"text-align: right;\">\n",
       "      <th></th>\n",
       "      <th>milage</th>\n",
       "      <th>average_price</th>\n",
       "    </tr>\n",
       "  </thead>\n",
       "  <tbody>\n",
       "    <tr>\n",
       "      <th>2</th>\n",
       "      <td>low mileage</td>\n",
       "      <td>12622</td>\n",
       "    </tr>\n",
       "    <tr>\n",
       "      <th>1</th>\n",
       "      <td>average mileage</td>\n",
       "      <td>10826</td>\n",
       "    </tr>\n",
       "    <tr>\n",
       "      <th>0</th>\n",
       "      <td>high mileage</td>\n",
       "      <td>4353</td>\n",
       "    </tr>\n",
       "  </tbody>\n",
       "</table>\n",
       "</div>"
      ],
      "text/plain": [
       "            milage  average_price\n",
       "2      low mileage          12622\n",
       "1  average mileage          10826\n",
       "0     high mileage           4353"
      ]
     },
     "execution_count": 48,
     "metadata": {},
     "output_type": "execute_result"
    }
   ],
   "source": [
    "#create a price to mileage table\n",
    "mileage_price = {}\n",
    "for m in ma:\n",
    "    selected_row = autos[autos['mileage']== m]\n",
    "    mean = round(selected_row['price'].mean())\n",
    "    mileage_price[m] = mean\n",
    "#convert to series\n",
    "mp_series = pd.Series(mileage_price)\n",
    "\n",
    "# convert to dataframe\n",
    "df = pd.DataFrame(mp_series)\n",
    "df = df.reset_index()\n",
    "df.columns = 'milage', 'average_price'\n",
    "df = df.sort_values(by = 'average_price', ascending = False)\n",
    "df"
   ]
  },
  {
   "cell_type": "markdown",
   "id": "38d4ef90",
   "metadata": {
    "papermill": {
     "duration": 0.019109,
     "end_time": "2023-03-20T19:05:12.841302",
     "exception": false,
     "start_time": "2023-03-20T19:05:12.822193",
     "status": "completed"
    },
    "tags": []
   },
   "source": [
    "#### This shows that cars with lower mileage are more expensive than cars with higher mileage"
   ]
  },
  {
   "cell_type": "markdown",
   "id": "b6e51c68",
   "metadata": {
    "papermill": {
     "duration": 0.01942,
     "end_time": "2023-03-20T19:05:12.881104",
     "exception": false,
     "start_time": "2023-03-20T19:05:12.861684",
     "status": "completed"
    },
    "tags": []
   },
   "source": [
    "# OVERVIEW\n",
    "## Data Quality Assessment\n",
    "The data was cleaned based on the dimensions of data quality:\n",
    "* Irrelevant data was removed.\n",
    "* Standardization of Column names and language.\n",
    "* Removal of wrong entires causing outliers in some columns.\n",
    "* Using the right data format for the columns.\n",
    "* Removal of inaccurate data.\n",
    "* Ensured uniqueness by removing duplicates.\n",
    "\n",
    "## EDA (Exploratory Data Analysis)\n",
    "The dataset contains the information of used cars for sale on a website site, the data was explored to gain noteable information that could be of benefit to potential customers and also stakeholders. This includes:\n",
    "* Price to Brand: This shows the average price of the top brands of cars available for sale. Brands like Audi, bmw, mercerdes benz, volkswagen are the top brands available for sale with Audi being the most expensive.\n",
    "\n",
    "* Brand, Price and Mileage relationship: this show the relationship between brand, price and how far the cars have been driven and due to the result not being clear enough mileage and price was explored more.\n",
    "\n",
    "* Price to Mileage: In this table mileage was grouped to better understand price to mileage and it showed that cars with lower mileage are more expensive than cars with high mileage.\n",
    "\n",
    "* Brand to Model Combo: This show the combination of cars that are more with Volkswagen-Golf combo being the most available combo and Volkswangen having more models.\n",
    "\n",
    "* State of car to Price: This is to determine whether the state of the car(ie. with or without damage) affect the price of the car and it showed that the cars without damage are more expensive than cars with damages.\n"
   ]
  }
 ],
 "metadata": {
  "kernelspec": {
   "display_name": "Python 3 (ipykernel)",
   "language": "python",
   "name": "python3"
  },
  "language_info": {
   "codemirror_mode": {
    "name": "ipython",
    "version": 3
   },
   "file_extension": ".py",
   "mimetype": "text/x-python",
   "name": "python",
   "nbconvert_exporter": "python",
   "pygments_lexer": "ipython3",
   "version": "3.9.12"
  },
  "papermill": {
   "default_parameters": {},
   "duration": 22.794191,
   "end_time": "2023-03-20T19:05:13.822902",
   "environment_variables": {},
   "exception": null,
   "input_path": "__notebook__.ipynb",
   "output_path": "__notebook__.ipynb",
   "parameters": {},
   "start_time": "2023-03-20T19:04:51.028711",
   "version": "2.4.0"
  }
 },
 "nbformat": 4,
 "nbformat_minor": 5
}
